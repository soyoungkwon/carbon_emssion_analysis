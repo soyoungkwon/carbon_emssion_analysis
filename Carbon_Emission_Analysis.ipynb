{
  "nbformat": 4,
  "nbformat_minor": 0,
  "metadata": {
    "colab": {
      "name": "Carbon_Emission_Analysis",
      "provenance": [],
      "toc_visible": true
    },
    "kernelspec": {
      "name": "python3",
      "display_name": "Python 3"
    }
  },
  "cells": [
    {
      "cell_type": "markdown",
      "metadata": {
        "id": "9mLvBBVTByZz"
      },
      "source": [
        "# load libraries"
      ]
    },
    {
      "cell_type": "code",
      "metadata": {
        "id": "NMEwrwzLSmE0"
      },
      "source": [
        "import os\n",
        "from google.colab import drive\n",
        "import pandas as pd\n",
        "import matplotlib.pyplot as plt"
      ],
      "execution_count": 1,
      "outputs": []
    },
    {
      "cell_type": "code",
      "metadata": {
        "id": "C21Dy2C3TaPy",
        "colab": {
          "base_uri": "https://localhost:8080/"
        },
        "outputId": "ac7736cf-684d-44e6-be6a-82497926ed96"
      },
      "source": [
        "dir_main = '/content/drive/'\n",
        "drive.mount(dir_main)\n",
        "dir_cozero = dir_main + 'My Drive/Colab Notebooks/Housing/data_cozero/'\n"
      ],
      "execution_count": 2,
      "outputs": [
        {
          "output_type": "stream",
          "text": [
            "Drive already mounted at /content/drive/; to attempt to forcibly remount, call drive.mount(\"/content/drive/\", force_remount=True).\n"
          ],
          "name": "stdout"
        }
      ]
    },
    {
      "cell_type": "code",
      "metadata": {
        "id": "q0DFfOufTwI4",
        "colab": {
          "base_uri": "https://localhost:8080/"
        },
        "outputId": "b90b0920-953e-456e-a107-8b33e4e6b654"
      },
      "source": [
        "os.listdir(dir_cozero)"
      ],
      "execution_count": 3,
      "outputs": [
        {
          "output_type": "execute_result",
          "data": {
            "text/plain": [
              "['city_reduction_targets_2018_2019.csv', 'Carbon_Emission_Analysis.ipynb']"
            ]
          },
          "metadata": {
            "tags": []
          },
          "execution_count": 3
        }
      ]
    },
    {
      "cell_type": "code",
      "metadata": {
        "id": "hOg2v0hQUSku"
      },
      "source": [
        "data = pd.read_csv(dir_cozero + '/city_reduction_targets_2018_2019.csv')"
      ],
      "execution_count": 4,
      "outputs": []
    },
    {
      "cell_type": "markdown",
      "metadata": {
        "id": "umMDuTP_o4iP"
      },
      "source": [
        "# 1. EDA"
      ]
    },
    {
      "cell_type": "markdown",
      "metadata": {
        "id": "JVFC4b5no2Au"
      },
      "source": [
        "1. Perform any cleaning, exploratory analysis, and visualizations to use the provided data for this analysis (a few sentences/plots describing your approach will suffice)."
      ]
    },
    {
      "cell_type": "code",
      "metadata": {
        "id": "vGP3UQaAZ_Mp"
      },
      "source": [
        "cols_to_drop = ['Identify and explain sources that differ from the inventory', 'Description of the target and the modelling methodology(ies) and parameters used to define it',\\\n",
        "                'Target description', 'Last update']"
      ],
      "execution_count": 5,
      "outputs": []
    },
    {
      "cell_type": "code",
      "metadata": {
        "id": "cPPjVn98Xmoc"
      },
      "source": [
        "data_dropped = data.drop(cols_to_drop, axis=1)"
      ],
      "execution_count": 6,
      "outputs": []
    },
    {
      "cell_type": "markdown",
      "metadata": {
        "id": "FhcZMAH5jIkl"
      },
      "source": [
        "## Feature engineering"
      ]
    },
    {
      "cell_type": "markdown",
      "metadata": {
        "id": "imDms-9CVhcP"
      },
      "source": [
        "### Rename feature"
      ]
    },
    {
      "cell_type": "code",
      "metadata": {
        "id": "NL5w2YxHVlWZ"
      },
      "source": [
        "column_names = ['Year_CDP', 'Account', 'Organization', 'City', 'Country', 'CDP_region', 'Report_authority', 'Access', 'City_boundary', 'Type_target', 'Sector', \\\n",
        "               'Target_boundary', 'Base_year', 'Target_implementation', 'Base_year_emissions', 'Percentage_reduction', 'Target_year',  'Target_emissions', \n",
        "                'Projected_population', 'Intensity_unit', 'Base_year_emissions_unit', 'Estimated_Emissions',\\\n",
        "                'Percentage_target', 'Sector_target', 'Paris_agreement', 'Higher_level', 'Population', 'Population_year', 'City_location'] "
      ],
      "execution_count": 7,
      "outputs": []
    },
    {
      "cell_type": "code",
      "metadata": {
        "id": "RibYmEH6d-Q9"
      },
      "source": [
        "data_dropped.columns = column_names"
      ],
      "execution_count": 8,
      "outputs": []
    },
    {
      "cell_type": "markdown",
      "metadata": {
        "id": "5m4XWdDhd4tC"
      },
      "source": [
        "### Drop unnecessary columns"
      ]
    },
    {
      "cell_type": "code",
      "metadata": {
        "colab": {
          "base_uri": "https://localhost:8080/",
          "height": 261
        },
        "id": "gLMYTSSaegW_",
        "outputId": "a074704a-4553-4df4-8c92-cf762e9482ed"
      },
      "source": [
        "data_dropped.head(2)"
      ],
      "execution_count": 9,
      "outputs": [
        {
          "output_type": "execute_result",
          "data": {
            "text/html": [
              "<div>\n",
              "<style scoped>\n",
              "    .dataframe tbody tr th:only-of-type {\n",
              "        vertical-align: middle;\n",
              "    }\n",
              "\n",
              "    .dataframe tbody tr th {\n",
              "        vertical-align: top;\n",
              "    }\n",
              "\n",
              "    .dataframe thead th {\n",
              "        text-align: right;\n",
              "    }\n",
              "</style>\n",
              "<table border=\"1\" class=\"dataframe\">\n",
              "  <thead>\n",
              "    <tr style=\"text-align: right;\">\n",
              "      <th></th>\n",
              "      <th>Year_CDP</th>\n",
              "      <th>Account</th>\n",
              "      <th>Organization</th>\n",
              "      <th>City</th>\n",
              "      <th>Country</th>\n",
              "      <th>CDP_region</th>\n",
              "      <th>Report_authority</th>\n",
              "      <th>Access</th>\n",
              "      <th>City_boundary</th>\n",
              "      <th>Type_target</th>\n",
              "      <th>Sector</th>\n",
              "      <th>Target_boundary</th>\n",
              "      <th>Base_year</th>\n",
              "      <th>Target_implementation</th>\n",
              "      <th>Base_year_emissions</th>\n",
              "      <th>Percentage_reduction</th>\n",
              "      <th>Target_year</th>\n",
              "      <th>Target_emissions</th>\n",
              "      <th>Projected_population</th>\n",
              "      <th>Intensity_unit</th>\n",
              "      <th>Base_year_emissions_unit</th>\n",
              "      <th>Estimated_Emissions</th>\n",
              "      <th>Percentage_target</th>\n",
              "      <th>Sector_target</th>\n",
              "      <th>Paris_agreement</th>\n",
              "      <th>Higher_level</th>\n",
              "      <th>Population</th>\n",
              "      <th>Population_year</th>\n",
              "      <th>City_location</th>\n",
              "    </tr>\n",
              "  </thead>\n",
              "  <tbody>\n",
              "    <tr>\n",
              "      <th>0</th>\n",
              "      <td>2019</td>\n",
              "      <td>36223</td>\n",
              "      <td>Antananarivo</td>\n",
              "      <td>Antananarivo</td>\n",
              "      <td>Madagascar</td>\n",
              "      <td>Africa</td>\n",
              "      <td>CDP Cities, ICLEI - Local Governments for Sust...</td>\n",
              "      <td>public</td>\n",
              "      <td>City / Municipality</td>\n",
              "      <td>Base year emissions (absolute) target</td>\n",
              "      <td>Energy</td>\n",
              "      <td>Larger – covers the whole city and adjoining a...</td>\n",
              "      <td>NaN</td>\n",
              "      <td>NaN</td>\n",
              "      <td>NaN</td>\n",
              "      <td>0.00</td>\n",
              "      <td>NaN</td>\n",
              "      <td>NaN</td>\n",
              "      <td>NaN</td>\n",
              "      <td>NaN</td>\n",
              "      <td>NaN</td>\n",
              "      <td>NaN</td>\n",
              "      <td>NaN</td>\n",
              "      <td>Energy industry, Other, Water</td>\n",
              "      <td>Yes - 1.5 °C</td>\n",
              "      <td>NaN</td>\n",
              "      <td>1370326.0</td>\n",
              "      <td>2015.0</td>\n",
              "      <td>POINT (47.5079 -18.8792)</td>\n",
              "    </tr>\n",
              "    <tr>\n",
              "      <th>1</th>\n",
              "      <td>2019</td>\n",
              "      <td>35872</td>\n",
              "      <td>Municipality of Recife</td>\n",
              "      <td>Recife</td>\n",
              "      <td>Brazil</td>\n",
              "      <td>Latin America</td>\n",
              "      <td>CDP Cities, ICLEI - Local Governments for Sust...</td>\n",
              "      <td>public</td>\n",
              "      <td>City / Municipality</td>\n",
              "      <td>Baseline scenario (business as usual) target</td>\n",
              "      <td>All emissions sources included in city inventory</td>\n",
              "      <td>NaN</td>\n",
              "      <td>2012.0</td>\n",
              "      <td>2016.0</td>\n",
              "      <td>3120425.0</td>\n",
              "      <td>11.28</td>\n",
              "      <td>2020.0</td>\n",
              "      <td>NaN</td>\n",
              "      <td>NaN</td>\n",
              "      <td>NaN</td>\n",
              "      <td>NaN</td>\n",
              "      <td>4093521.0</td>\n",
              "      <td>NaN</td>\n",
              "      <td>NaN</td>\n",
              "      <td>NaN</td>\n",
              "      <td>NaN</td>\n",
              "      <td>1637834.0</td>\n",
              "      <td>2018.0</td>\n",
              "      <td>POINT (-34.8829 -8.05783)</td>\n",
              "    </tr>\n",
              "  </tbody>\n",
              "</table>\n",
              "</div>"
            ],
            "text/plain": [
              "   Year_CDP  Account  ... Population_year              City_location\n",
              "0      2019    36223  ...          2015.0   POINT (47.5079 -18.8792)\n",
              "1      2019    35872  ...          2018.0  POINT (-34.8829 -8.05783)\n",
              "\n",
              "[2 rows x 29 columns]"
            ]
          },
          "metadata": {
            "tags": []
          },
          "execution_count": 9
        }
      ]
    },
    {
      "cell_type": "code",
      "metadata": {
        "id": "bCOecR5XKsM4"
      },
      "source": [
        "data_dropped['Emission_Target2Base']= (data_dropped['Target_emissions']-data_dropped['Base_year_emissions'])/data_dropped['Base_year_emissions']#.hist(bins=30)"
      ],
      "execution_count": 10,
      "outputs": []
    },
    {
      "cell_type": "code",
      "metadata": {
        "colab": {
          "base_uri": "https://localhost:8080/",
          "height": 324
        },
        "id": "86OqxLyhC9P1",
        "outputId": "60657698-489e-48b6-9f26-7aed2c0df248"
      },
      "source": [
        "fig, axes = plt.subplots(nrows=1, ncols=3, figsize=(30,10))\n",
        "plt.subplots_adjust(left=0, bottom=None, right=1, top=None, wspace=None, hspace=None)\n",
        "data_dropped['CDP_region'].value_counts().sort_values(ascending=True).plot.barh(ax=axes[0], title='CDP_region', fontsize=25, align='center')\n",
        "data_dropped['Sector'].value_counts().sort_values(ascending=True)[-10:].plot.barh(ax=axes[1], title='sector', fontsize=25)\n",
        "data_dropped['Type_target'].value_counts().sort_values(ascending=True).plot.barh(ax=axes[2], title='Type_target', fontsize=25)\n",
        "plt.show()"
      ],
      "execution_count": 11,
      "outputs": [
        {
          "output_type": "display_data",
          "data": {
            "image/png": "[encoded data removed]",
            "text/plain": [
              "<Figure size 2160x720 with 3 Axes>"
            ]
          },
          "metadata": {
            "tags": [],
            "needs_background": "light"
          }
        }
      ]
    },
    {
      "cell_type": "code",
      "metadata": {
        "id": "PK-b0tAFfoYr"
      },
      "source": [
        "data_type = data_dropped"
      ],
      "execution_count": 12,
      "outputs": []
    },
    {
      "cell_type": "code",
      "metadata": {
        "colab": {
          "base_uri": "https://localhost:8080/"
        },
        "id": "H-_hXrY2--aN",
        "outputId": "76efc6d6-d94b-44f6-af57-f542824864bd"
      },
      "source": [
        "data_dropped.isna().mean()"
      ],
      "execution_count": 13,
      "outputs": [
        {
          "output_type": "execute_result",
          "data": {
            "text/plain": [
              "Year_CDP                    0.000000\n",
              "Account                     0.000000\n",
              "Organization                0.000000\n",
              "City                        0.158353\n",
              "Country                     0.000000\n",
              "CDP_region                  0.000000\n",
              "Report_authority            0.000000\n",
              "Access                      0.000000\n",
              "City_boundary               0.202436\n",
              "Type_target                 0.201276\n",
              "Sector                      0.457657\n",
              "Target_boundary             0.647912\n",
              "Base_year                   0.480858\n",
              "Target_implementation       0.663573\n",
              "Base_year_emissions         0.555104\n",
              "Percentage_reduction        0.471578\n",
              "Target_year                 0.453596\n",
              "Target_emissions            0.799304\n",
              "Projected_population        0.980858\n",
              "Intensity_unit              0.969838\n",
              "Base_year_emissions_unit    0.975638\n",
              "Estimated_Emissions         0.951276\n",
              "Percentage_target           0.659513\n",
              "Sector_target               0.684455\n",
              "Paris_agreement             0.675754\n",
              "Higher_level                0.699536\n",
              "Population                  0.208237\n",
              "Population_year             0.210557\n",
              "City_location               0.200116\n",
              "Emission_Target2Base        0.816125\n",
              "dtype: float64"
            ]
          },
          "metadata": {
            "tags": []
          },
          "execution_count": 13
        }
      ]
    },
    {
      "cell_type": "code",
      "metadata": {
        "id": "JRAD6YANwtoK"
      },
      "source": [
        "data_type = data_type.loc[:,data_type.isna().mean() < 0.8]"
      ],
      "execution_count": 14,
      "outputs": []
    },
    {
      "cell_type": "code",
      "metadata": {
        "id": "voFcXPS4xHax",
        "colab": {
          "base_uri": "https://localhost:8080/"
        },
        "outputId": "28a90788-5055-4dda-d6dc-8103bec0c41a"
      },
      "source": [
        "data_type.isna().mean()"
      ],
      "execution_count": 15,
      "outputs": [
        {
          "output_type": "execute_result",
          "data": {
            "text/plain": [
              "Year_CDP                 0.000000\n",
              "Account                  0.000000\n",
              "Organization             0.000000\n",
              "City                     0.158353\n",
              "Country                  0.000000\n",
              "CDP_region               0.000000\n",
              "Report_authority         0.000000\n",
              "Access                   0.000000\n",
              "City_boundary            0.202436\n",
              "Type_target              0.201276\n",
              "Sector                   0.457657\n",
              "Target_boundary          0.647912\n",
              "Base_year                0.480858\n",
              "Target_implementation    0.663573\n",
              "Base_year_emissions      0.555104\n",
              "Percentage_reduction     0.471578\n",
              "Target_year              0.453596\n",
              "Target_emissions         0.799304\n",
              "Percentage_target        0.659513\n",
              "Sector_target            0.684455\n",
              "Paris_agreement          0.675754\n",
              "Higher_level             0.699536\n",
              "Population               0.208237\n",
              "Population_year          0.210557\n",
              "City_location            0.200116\n",
              "dtype: float64"
            ]
          },
          "metadata": {
            "tags": []
          },
          "execution_count": 15
        }
      ]
    },
    {
      "cell_type": "code",
      "metadata": {
        "id": "PyK3yevqz1kD"
      },
      "source": [
        "data_bycountry = data_type.groupby(['Country'])#['Base_year_emissions'].mean().sort_values(ascending=False)"
      ],
      "execution_count": 16,
      "outputs": []
    },
    {
      "cell_type": "code",
      "metadata": {
        "colab": {
          "base_uri": "https://localhost:8080/",
          "height": 499
        },
        "id": "kfifAHt6Ox3q",
        "outputId": "340a1e3a-3195-4cb3-e049-3de848372af2"
      },
      "source": [
        "data_bycountry.mean()#['Base_year_emissions'].mean()"
      ],
      "execution_count": 17,
      "outputs": [
        {
          "output_type": "execute_result",
          "data": {
            "text/html": [
              "<div>\n",
              "<style scoped>\n",
              "    .dataframe tbody tr th:only-of-type {\n",
              "        vertical-align: middle;\n",
              "    }\n",
              "\n",
              "    .dataframe tbody tr th {\n",
              "        vertical-align: top;\n",
              "    }\n",
              "\n",
              "    .dataframe thead th {\n",
              "        text-align: right;\n",
              "    }\n",
              "</style>\n",
              "<table border=\"1\" class=\"dataframe\">\n",
              "  <thead>\n",
              "    <tr style=\"text-align: right;\">\n",
              "      <th></th>\n",
              "      <th>Year_CDP</th>\n",
              "      <th>Account</th>\n",
              "      <th>Base_year</th>\n",
              "      <th>Target_implementation</th>\n",
              "      <th>Base_year_emissions</th>\n",
              "      <th>Percentage_reduction</th>\n",
              "      <th>Target_year</th>\n",
              "      <th>Target_emissions</th>\n",
              "      <th>Percentage_target</th>\n",
              "      <th>Population</th>\n",
              "      <th>Population_year</th>\n",
              "    </tr>\n",
              "    <tr>\n",
              "      <th>Country</th>\n",
              "      <th></th>\n",
              "      <th></th>\n",
              "      <th></th>\n",
              "      <th></th>\n",
              "      <th></th>\n",
              "      <th></th>\n",
              "      <th></th>\n",
              "      <th></th>\n",
              "      <th></th>\n",
              "      <th></th>\n",
              "      <th></th>\n",
              "    </tr>\n",
              "  </thead>\n",
              "  <tbody>\n",
              "    <tr>\n",
              "      <th>Albania</th>\n",
              "      <td>2019.000000</td>\n",
              "      <td>59163.000000</td>\n",
              "      <td>NaN</td>\n",
              "      <td>NaN</td>\n",
              "      <td>NaN</td>\n",
              "      <td>NaN</td>\n",
              "      <td>NaN</td>\n",
              "      <td>NaN</td>\n",
              "      <td>NaN</td>\n",
              "      <td>NaN</td>\n",
              "      <td>NaN</td>\n",
              "    </tr>\n",
              "    <tr>\n",
              "      <th>Argentina</th>\n",
              "      <td>2018.923077</td>\n",
              "      <td>379558.505495</td>\n",
              "      <td>2014.285714</td>\n",
              "      <td>2018.685714</td>\n",
              "      <td>6.357063e+05</td>\n",
              "      <td>20.314286</td>\n",
              "      <td>2029.857143</td>\n",
              "      <td>9272.000000</td>\n",
              "      <td>2.000000</td>\n",
              "      <td>1.954096e+05</td>\n",
              "      <td>2011.982759</td>\n",
              "    </tr>\n",
              "    <tr>\n",
              "      <th>Australia</th>\n",
              "      <td>2018.625000</td>\n",
              "      <td>48434.541667</td>\n",
              "      <td>2005.384615</td>\n",
              "      <td>2014.833333</td>\n",
              "      <td>2.282413e+06</td>\n",
              "      <td>70.384615</td>\n",
              "      <td>2031.277778</td>\n",
              "      <td>735037.333333</td>\n",
              "      <td>33.966798</td>\n",
              "      <td>1.627622e+05</td>\n",
              "      <td>2017.842105</td>\n",
              "    </tr>\n",
              "    <tr>\n",
              "      <th>Bangladesh</th>\n",
              "      <td>2018.500000</td>\n",
              "      <td>50782.000000</td>\n",
              "      <td>NaN</td>\n",
              "      <td>NaN</td>\n",
              "      <td>NaN</td>\n",
              "      <td>NaN</td>\n",
              "      <td>NaN</td>\n",
              "      <td>NaN</td>\n",
              "      <td>NaN</td>\n",
              "      <td>6.000000e+06</td>\n",
              "      <td>2019.000000</td>\n",
              "    </tr>\n",
              "    <tr>\n",
              "      <th>Belgium</th>\n",
              "      <td>2019.000000</td>\n",
              "      <td>35854.000000</td>\n",
              "      <td>2008.000000</td>\n",
              "      <td>2016.000000</td>\n",
              "      <td>1.171498e+06</td>\n",
              "      <td>40.000000</td>\n",
              "      <td>2030.000000</td>\n",
              "      <td>702899.000000</td>\n",
              "      <td>42.000000</td>\n",
              "      <td>1.792770e+05</td>\n",
              "      <td>2018.000000</td>\n",
              "    </tr>\n",
              "    <tr>\n",
              "      <th>...</th>\n",
              "      <td>...</td>\n",
              "      <td>...</td>\n",
              "      <td>...</td>\n",
              "      <td>...</td>\n",
              "      <td>...</td>\n",
              "      <td>...</td>\n",
              "      <td>...</td>\n",
              "      <td>...</td>\n",
              "      <td>...</td>\n",
              "      <td>...</td>\n",
              "      <td>...</td>\n",
              "    </tr>\n",
              "    <tr>\n",
              "      <th>Uruguay</th>\n",
              "      <td>2019.000000</td>\n",
              "      <td>42388.000000</td>\n",
              "      <td>NaN</td>\n",
              "      <td>NaN</td>\n",
              "      <td>NaN</td>\n",
              "      <td>NaN</td>\n",
              "      <td>NaN</td>\n",
              "      <td>NaN</td>\n",
              "      <td>NaN</td>\n",
              "      <td>1.380432e+06</td>\n",
              "      <td>2016.000000</td>\n",
              "    </tr>\n",
              "    <tr>\n",
              "      <th>Venezuela (Bolivarian Republic of)</th>\n",
              "      <td>2019.000000</td>\n",
              "      <td>840693.000000</td>\n",
              "      <td>NaN</td>\n",
              "      <td>NaN</td>\n",
              "      <td>NaN</td>\n",
              "      <td>NaN</td>\n",
              "      <td>NaN</td>\n",
              "      <td>NaN</td>\n",
              "      <td>NaN</td>\n",
              "      <td>NaN</td>\n",
              "      <td>NaN</td>\n",
              "    </tr>\n",
              "    <tr>\n",
              "      <th>Viet Nam</th>\n",
              "      <td>2018.750000</td>\n",
              "      <td>637750.750000</td>\n",
              "      <td>2018.000000</td>\n",
              "      <td>2019.000000</td>\n",
              "      <td>7.637635e+05</td>\n",
              "      <td>0.350000</td>\n",
              "      <td>2040.000000</td>\n",
              "      <td>530413.750000</td>\n",
              "      <td>0.000000</td>\n",
              "      <td>2.595167e+05</td>\n",
              "      <td>2018.000000</td>\n",
              "    </tr>\n",
              "    <tr>\n",
              "      <th>Zambia</th>\n",
              "      <td>2018.333333</td>\n",
              "      <td>318327.666667</td>\n",
              "      <td>NaN</td>\n",
              "      <td>NaN</td>\n",
              "      <td>NaN</td>\n",
              "      <td>NaN</td>\n",
              "      <td>NaN</td>\n",
              "      <td>NaN</td>\n",
              "      <td>NaN</td>\n",
              "      <td>1.822050e+05</td>\n",
              "      <td>2016.000000</td>\n",
              "    </tr>\n",
              "    <tr>\n",
              "      <th>Zimbabwe</th>\n",
              "      <td>2018.500000</td>\n",
              "      <td>49359.000000</td>\n",
              "      <td>NaN</td>\n",
              "      <td>NaN</td>\n",
              "      <td>NaN</td>\n",
              "      <td>NaN</td>\n",
              "      <td>NaN</td>\n",
              "      <td>NaN</td>\n",
              "      <td>NaN</td>\n",
              "      <td>1.836552e+06</td>\n",
              "      <td>2019.000000</td>\n",
              "    </tr>\n",
              "  </tbody>\n",
              "</table>\n",
              "<p>94 rows × 11 columns</p>\n",
              "</div>"
            ],
            "text/plain": [
              "                                       Year_CDP  ...  Population_year\n",
              "Country                                          ...                 \n",
              "Albania                             2019.000000  ...              NaN\n",
              "Argentina                           2018.923077  ...      2011.982759\n",
              "Australia                           2018.625000  ...      2017.842105\n",
              "Bangladesh                          2018.500000  ...      2019.000000\n",
              "Belgium                             2019.000000  ...      2018.000000\n",
              "...                                         ...  ...              ...\n",
              "Uruguay                             2019.000000  ...      2016.000000\n",
              "Venezuela (Bolivarian Republic of)  2019.000000  ...              NaN\n",
              "Viet Nam                            2018.750000  ...      2018.000000\n",
              "Zambia                              2018.333333  ...      2016.000000\n",
              "Zimbabwe                            2018.500000  ...      2019.000000\n",
              "\n",
              "[94 rows x 11 columns]"
            ]
          },
          "metadata": {
            "tags": []
          },
          "execution_count": 17
        }
      ]
    },
    {
      "cell_type": "code",
      "metadata": {
        "colab": {
          "base_uri": "https://localhost:8080/",
          "height": 499
        },
        "id": "AjBVkSMHPqAf",
        "outputId": "e60c7b14-ca5c-45b5-a822-160566f6a4bb"
      },
      "source": [
        "data_bycountry.sum()"
      ],
      "execution_count": 18,
      "outputs": [
        {
          "output_type": "execute_result",
          "data": {
            "text/html": [
              "<div>\n",
              "<style scoped>\n",
              "    .dataframe tbody tr th:only-of-type {\n",
              "        vertical-align: middle;\n",
              "    }\n",
              "\n",
              "    .dataframe tbody tr th {\n",
              "        vertical-align: top;\n",
              "    }\n",
              "\n",
              "    .dataframe thead th {\n",
              "        text-align: right;\n",
              "    }\n",
              "</style>\n",
              "<table border=\"1\" class=\"dataframe\">\n",
              "  <thead>\n",
              "    <tr style=\"text-align: right;\">\n",
              "      <th></th>\n",
              "      <th>Year_CDP</th>\n",
              "      <th>Account</th>\n",
              "      <th>Base_year</th>\n",
              "      <th>Target_implementation</th>\n",
              "      <th>Base_year_emissions</th>\n",
              "      <th>Percentage_reduction</th>\n",
              "      <th>Target_year</th>\n",
              "      <th>Target_emissions</th>\n",
              "      <th>Percentage_target</th>\n",
              "      <th>Population</th>\n",
              "      <th>Population_year</th>\n",
              "    </tr>\n",
              "    <tr>\n",
              "      <th>Country</th>\n",
              "      <th></th>\n",
              "      <th></th>\n",
              "      <th></th>\n",
              "      <th></th>\n",
              "      <th></th>\n",
              "      <th></th>\n",
              "      <th></th>\n",
              "      <th></th>\n",
              "      <th></th>\n",
              "      <th></th>\n",
              "      <th></th>\n",
              "    </tr>\n",
              "  </thead>\n",
              "  <tbody>\n",
              "    <tr>\n",
              "      <th>Albania</th>\n",
              "      <td>2019</td>\n",
              "      <td>59163</td>\n",
              "      <td>0.0</td>\n",
              "      <td>0.0</td>\n",
              "      <td>0.0</td>\n",
              "      <td>0.0</td>\n",
              "      <td>0.0</td>\n",
              "      <td>0.0</td>\n",
              "      <td>0.000000</td>\n",
              "      <td>0.0</td>\n",
              "      <td>0.0</td>\n",
              "    </tr>\n",
              "    <tr>\n",
              "      <th>Argentina</th>\n",
              "      <td>183722</td>\n",
              "      <td>34539824</td>\n",
              "      <td>70500.0</td>\n",
              "      <td>70654.0</td>\n",
              "      <td>22249720.6</td>\n",
              "      <td>711.0</td>\n",
              "      <td>71045.0</td>\n",
              "      <td>9272.0</td>\n",
              "      <td>8.000000</td>\n",
              "      <td>11333755.0</td>\n",
              "      <td>116695.0</td>\n",
              "    </tr>\n",
              "    <tr>\n",
              "      <th>Australia</th>\n",
              "      <td>48447</td>\n",
              "      <td>1162429</td>\n",
              "      <td>26070.0</td>\n",
              "      <td>24178.0</td>\n",
              "      <td>25106542.0</td>\n",
              "      <td>915.0</td>\n",
              "      <td>36563.0</td>\n",
              "      <td>4410224.0</td>\n",
              "      <td>373.634782</td>\n",
              "      <td>3092481.0</td>\n",
              "      <td>38339.0</td>\n",
              "    </tr>\n",
              "    <tr>\n",
              "      <th>Bangladesh</th>\n",
              "      <td>4037</td>\n",
              "      <td>101564</td>\n",
              "      <td>0.0</td>\n",
              "      <td>0.0</td>\n",
              "      <td>0.0</td>\n",
              "      <td>0.0</td>\n",
              "      <td>0.0</td>\n",
              "      <td>0.0</td>\n",
              "      <td>0.000000</td>\n",
              "      <td>6000000.0</td>\n",
              "      <td>2019.0</td>\n",
              "    </tr>\n",
              "    <tr>\n",
              "      <th>Belgium</th>\n",
              "      <td>2019</td>\n",
              "      <td>35854</td>\n",
              "      <td>2008.0</td>\n",
              "      <td>2016.0</td>\n",
              "      <td>1171498.0</td>\n",
              "      <td>40.0</td>\n",
              "      <td>2030.0</td>\n",
              "      <td>702899.0</td>\n",
              "      <td>42.000000</td>\n",
              "      <td>179277.0</td>\n",
              "      <td>2018.0</td>\n",
              "    </tr>\n",
              "    <tr>\n",
              "      <th>...</th>\n",
              "      <td>...</td>\n",
              "      <td>...</td>\n",
              "      <td>...</td>\n",
              "      <td>...</td>\n",
              "      <td>...</td>\n",
              "      <td>...</td>\n",
              "      <td>...</td>\n",
              "      <td>...</td>\n",
              "      <td>...</td>\n",
              "      <td>...</td>\n",
              "      <td>...</td>\n",
              "    </tr>\n",
              "    <tr>\n",
              "      <th>Uruguay</th>\n",
              "      <td>2019</td>\n",
              "      <td>42388</td>\n",
              "      <td>0.0</td>\n",
              "      <td>0.0</td>\n",
              "      <td>0.0</td>\n",
              "      <td>0.0</td>\n",
              "      <td>0.0</td>\n",
              "      <td>0.0</td>\n",
              "      <td>0.000000</td>\n",
              "      <td>1380432.0</td>\n",
              "      <td>2016.0</td>\n",
              "    </tr>\n",
              "    <tr>\n",
              "      <th>Venezuela (Bolivarian Republic of)</th>\n",
              "      <td>2019</td>\n",
              "      <td>840693</td>\n",
              "      <td>0.0</td>\n",
              "      <td>0.0</td>\n",
              "      <td>0.0</td>\n",
              "      <td>0.0</td>\n",
              "      <td>0.0</td>\n",
              "      <td>0.0</td>\n",
              "      <td>0.000000</td>\n",
              "      <td>0.0</td>\n",
              "      <td>0.0</td>\n",
              "    </tr>\n",
              "    <tr>\n",
              "      <th>Viet Nam</th>\n",
              "      <td>8075</td>\n",
              "      <td>2551003</td>\n",
              "      <td>4036.0</td>\n",
              "      <td>4038.0</td>\n",
              "      <td>1527527.0</td>\n",
              "      <td>0.7</td>\n",
              "      <td>4080.0</td>\n",
              "      <td>1060827.5</td>\n",
              "      <td>0.000000</td>\n",
              "      <td>778550.0</td>\n",
              "      <td>6054.0</td>\n",
              "    </tr>\n",
              "    <tr>\n",
              "      <th>Zambia</th>\n",
              "      <td>6055</td>\n",
              "      <td>954983</td>\n",
              "      <td>0.0</td>\n",
              "      <td>0.0</td>\n",
              "      <td>0.0</td>\n",
              "      <td>0.0</td>\n",
              "      <td>0.0</td>\n",
              "      <td>0.0</td>\n",
              "      <td>0.000000</td>\n",
              "      <td>182205.0</td>\n",
              "      <td>2016.0</td>\n",
              "    </tr>\n",
              "    <tr>\n",
              "      <th>Zimbabwe</th>\n",
              "      <td>4037</td>\n",
              "      <td>98718</td>\n",
              "      <td>0.0</td>\n",
              "      <td>0.0</td>\n",
              "      <td>0.0</td>\n",
              "      <td>0.0</td>\n",
              "      <td>0.0</td>\n",
              "      <td>0.0</td>\n",
              "      <td>0.000000</td>\n",
              "      <td>1836552.0</td>\n",
              "      <td>2019.0</td>\n",
              "    </tr>\n",
              "  </tbody>\n",
              "</table>\n",
              "<p>94 rows × 11 columns</p>\n",
              "</div>"
            ],
            "text/plain": [
              "                                    Year_CDP  ...  Population_year\n",
              "Country                                       ...                 \n",
              "Albania                                 2019  ...              0.0\n",
              "Argentina                             183722  ...         116695.0\n",
              "Australia                              48447  ...          38339.0\n",
              "Bangladesh                              4037  ...           2019.0\n",
              "Belgium                                 2019  ...           2018.0\n",
              "...                                      ...  ...              ...\n",
              "Uruguay                                 2019  ...           2016.0\n",
              "Venezuela (Bolivarian Republic of)      2019  ...              0.0\n",
              "Viet Nam                                8075  ...           6054.0\n",
              "Zambia                                  6055  ...           2016.0\n",
              "Zimbabwe                                4037  ...           2019.0\n",
              "\n",
              "[94 rows x 11 columns]"
            ]
          },
          "metadata": {
            "tags": []
          },
          "execution_count": 18
        }
      ]
    },
    {
      "cell_type": "code",
      "metadata": {
        "id": "QtzLvY8BekRH"
      },
      "source": [
        "cols_to_drop = ['Account', 'Report_authority','Access', 'Type_target', 'City_location']\n",
        "data_cleaned = data_type.drop(cols_to_drop, axis=1)"
      ],
      "execution_count": 19,
      "outputs": []
    },
    {
      "cell_type": "code",
      "metadata": {
        "colab": {
          "base_uri": "https://localhost:8080/",
          "height": 244
        },
        "id": "R4xmm2A_xh6R",
        "outputId": "95ef6ceb-cceb-47b8-fd53-b80ec5cf3f98"
      },
      "source": [
        "data_cleaned.head(2)"
      ],
      "execution_count": 20,
      "outputs": [
        {
          "output_type": "execute_result",
          "data": {
            "text/html": [
              "<div>\n",
              "<style scoped>\n",
              "    .dataframe tbody tr th:only-of-type {\n",
              "        vertical-align: middle;\n",
              "    }\n",
              "\n",
              "    .dataframe tbody tr th {\n",
              "        vertical-align: top;\n",
              "    }\n",
              "\n",
              "    .dataframe thead th {\n",
              "        text-align: right;\n",
              "    }\n",
              "</style>\n",
              "<table border=\"1\" class=\"dataframe\">\n",
              "  <thead>\n",
              "    <tr style=\"text-align: right;\">\n",
              "      <th></th>\n",
              "      <th>Year_CDP</th>\n",
              "      <th>Organization</th>\n",
              "      <th>City</th>\n",
              "      <th>Country</th>\n",
              "      <th>CDP_region</th>\n",
              "      <th>City_boundary</th>\n",
              "      <th>Sector</th>\n",
              "      <th>Target_boundary</th>\n",
              "      <th>Base_year</th>\n",
              "      <th>Target_implementation</th>\n",
              "      <th>Base_year_emissions</th>\n",
              "      <th>Percentage_reduction</th>\n",
              "      <th>Target_year</th>\n",
              "      <th>Target_emissions</th>\n",
              "      <th>Percentage_target</th>\n",
              "      <th>Sector_target</th>\n",
              "      <th>Paris_agreement</th>\n",
              "      <th>Higher_level</th>\n",
              "      <th>Population</th>\n",
              "      <th>Population_year</th>\n",
              "    </tr>\n",
              "  </thead>\n",
              "  <tbody>\n",
              "    <tr>\n",
              "      <th>0</th>\n",
              "      <td>2019</td>\n",
              "      <td>Antananarivo</td>\n",
              "      <td>Antananarivo</td>\n",
              "      <td>Madagascar</td>\n",
              "      <td>Africa</td>\n",
              "      <td>City / Municipality</td>\n",
              "      <td>Energy</td>\n",
              "      <td>Larger – covers the whole city and adjoining a...</td>\n",
              "      <td>NaN</td>\n",
              "      <td>NaN</td>\n",
              "      <td>NaN</td>\n",
              "      <td>0.00</td>\n",
              "      <td>NaN</td>\n",
              "      <td>NaN</td>\n",
              "      <td>NaN</td>\n",
              "      <td>Energy industry, Other, Water</td>\n",
              "      <td>Yes - 1.5 °C</td>\n",
              "      <td>NaN</td>\n",
              "      <td>1370326.0</td>\n",
              "      <td>2015.0</td>\n",
              "    </tr>\n",
              "    <tr>\n",
              "      <th>1</th>\n",
              "      <td>2019</td>\n",
              "      <td>Municipality of Recife</td>\n",
              "      <td>Recife</td>\n",
              "      <td>Brazil</td>\n",
              "      <td>Latin America</td>\n",
              "      <td>City / Municipality</td>\n",
              "      <td>All emissions sources included in city inventory</td>\n",
              "      <td>NaN</td>\n",
              "      <td>2012.0</td>\n",
              "      <td>2016.0</td>\n",
              "      <td>3120425.0</td>\n",
              "      <td>11.28</td>\n",
              "      <td>2020.0</td>\n",
              "      <td>NaN</td>\n",
              "      <td>NaN</td>\n",
              "      <td>NaN</td>\n",
              "      <td>NaN</td>\n",
              "      <td>NaN</td>\n",
              "      <td>1637834.0</td>\n",
              "      <td>2018.0</td>\n",
              "    </tr>\n",
              "  </tbody>\n",
              "</table>\n",
              "</div>"
            ],
            "text/plain": [
              "   Year_CDP            Organization  ... Population Population_year\n",
              "0      2019            Antananarivo  ...  1370326.0          2015.0\n",
              "1      2019  Municipality of Recife  ...  1637834.0          2018.0\n",
              "\n",
              "[2 rows x 20 columns]"
            ]
          },
          "metadata": {
            "tags": []
          },
          "execution_count": 20
        }
      ]
    },
    {
      "cell_type": "markdown",
      "metadata": {
        "id": "YY2BLrnQeAM6"
      },
      "source": [
        "### Drop raws"
      ]
    },
    {
      "cell_type": "markdown",
      "metadata": {
        "id": "4RoWUNfmoRTB"
      },
      "source": [
        "# 2. Emission/Country"
      ]
    },
    {
      "cell_type": "markdown",
      "metadata": {
        "id": "_oyLoptkrFS7"
      },
      "source": [
        "2. What are the average per capita emissions per country? What's the average %-reduction in target values for the top 5 countries by overall emissions?"
      ]
    },
    {
      "cell_type": "markdown",
      "metadata": {
        "id": "gA6n2IVn--bj"
      },
      "source": [
        "## Emission per capita"
      ]
    },
    {
      "cell_type": "markdown",
      "metadata": {
        "id": "GBGjnKy0np63"
      },
      "source": [
        "## Emission/capita"
      ]
    },
    {
      "cell_type": "code",
      "metadata": {
        "id": "mC31_zKcct_m"
      },
      "source": [
        "# perc_red[perc_red>50].plot.barh(figsize=(10,30))"
      ],
      "execution_count": 21,
      "outputs": []
    },
    {
      "cell_type": "code",
      "metadata": {
        "id": "9P8qWRx-_Ccy"
      },
      "source": [
        "data_cleaned['Base_Emission_per_capita'] = data_cleaned['Base_year_emissions']/data_cleaned['Population']"
      ],
      "execution_count": 22,
      "outputs": []
    },
    {
      "cell_type": "code",
      "metadata": {
        "id": "LISrBLEWCtr5",
        "colab": {
          "base_uri": "https://localhost:8080/",
          "height": 194
        },
        "outputId": "e38bc600-a8fb-44c0-8643-3ecbe2fb7053"
      },
      "source": [
        "data_cleaned[['Country','Base_Emission_per_capita','Population']].head(5)"
      ],
      "execution_count": 23,
      "outputs": [
        {
          "output_type": "execute_result",
          "data": {
            "text/html": [
              "<div>\n",
              "<style scoped>\n",
              "    .dataframe tbody tr th:only-of-type {\n",
              "        vertical-align: middle;\n",
              "    }\n",
              "\n",
              "    .dataframe tbody tr th {\n",
              "        vertical-align: top;\n",
              "    }\n",
              "\n",
              "    .dataframe thead th {\n",
              "        text-align: right;\n",
              "    }\n",
              "</style>\n",
              "<table border=\"1\" class=\"dataframe\">\n",
              "  <thead>\n",
              "    <tr style=\"text-align: right;\">\n",
              "      <th></th>\n",
              "      <th>Country</th>\n",
              "      <th>Base_Emission_per_capita</th>\n",
              "      <th>Population</th>\n",
              "    </tr>\n",
              "  </thead>\n",
              "  <tbody>\n",
              "    <tr>\n",
              "      <th>0</th>\n",
              "      <td>Madagascar</td>\n",
              "      <td>NaN</td>\n",
              "      <td>1370326.0</td>\n",
              "    </tr>\n",
              "    <tr>\n",
              "      <th>1</th>\n",
              "      <td>Brazil</td>\n",
              "      <td>1.905214</td>\n",
              "      <td>1637834.0</td>\n",
              "    </tr>\n",
              "    <tr>\n",
              "      <th>2</th>\n",
              "      <td>Italy</td>\n",
              "      <td>NaN</td>\n",
              "      <td>NaN</td>\n",
              "    </tr>\n",
              "    <tr>\n",
              "      <th>3</th>\n",
              "      <td>United States of America</td>\n",
              "      <td>12.674355</td>\n",
              "      <td>860090.0</td>\n",
              "    </tr>\n",
              "    <tr>\n",
              "      <th>4</th>\n",
              "      <td>New Zealand</td>\n",
              "      <td>NaN</td>\n",
              "      <td>NaN</td>\n",
              "    </tr>\n",
              "  </tbody>\n",
              "</table>\n",
              "</div>"
            ],
            "text/plain": [
              "                    Country  Base_Emission_per_capita  Population\n",
              "0                Madagascar                       NaN   1370326.0\n",
              "1                    Brazil                  1.905214   1637834.0\n",
              "2                     Italy                       NaN         NaN\n",
              "3  United States of America                 12.674355    860090.0\n",
              "4               New Zealand                       NaN         NaN"
            ]
          },
          "metadata": {
            "tags": []
          },
          "execution_count": 23
        }
      ]
    },
    {
      "cell_type": "code",
      "metadata": {
        "id": "B1Ye_Oj0ODOj"
      },
      "source": [
        "# data_cleaned[data_cleaned['Country'].isin(['United States of America'])].head(5)"
      ],
      "execution_count": 24,
      "outputs": []
    },
    {
      "cell_type": "code",
      "metadata": {
        "id": "Q_j0QiehMhYB"
      },
      "source": [
        "data_countrywise = data_cleaned.groupby(['Country'])#[['Base_year_emissions', 'Percentage_reduction', 'Population', 'Emission_Target2Base']].sum().sort_values(by='Base_year_emissions', ascending=False)#[:60]"
      ],
      "execution_count": 25,
      "outputs": []
    },
    {
      "cell_type": "code",
      "metadata": {
        "colab": {
          "base_uri": "https://localhost:8080/",
          "height": 499
        },
        "id": "V6d-71uaWszp",
        "outputId": "ffbe3b75-eec6-48c1-89d4-c322217a7e37"
      },
      "source": [
        "data_countrywise.sum()"
      ],
      "execution_count": 26,
      "outputs": [
        {
          "output_type": "execute_result",
          "data": {
            "text/html": [
              "<div>\n",
              "<style scoped>\n",
              "    .dataframe tbody tr th:only-of-type {\n",
              "        vertical-align: middle;\n",
              "    }\n",
              "\n",
              "    .dataframe tbody tr th {\n",
              "        vertical-align: top;\n",
              "    }\n",
              "\n",
              "    .dataframe thead th {\n",
              "        text-align: right;\n",
              "    }\n",
              "</style>\n",
              "<table border=\"1\" class=\"dataframe\">\n",
              "  <thead>\n",
              "    <tr style=\"text-align: right;\">\n",
              "      <th></th>\n",
              "      <th>Year_CDP</th>\n",
              "      <th>Base_year</th>\n",
              "      <th>Target_implementation</th>\n",
              "      <th>Base_year_emissions</th>\n",
              "      <th>Percentage_reduction</th>\n",
              "      <th>Target_year</th>\n",
              "      <th>Target_emissions</th>\n",
              "      <th>Percentage_target</th>\n",
              "      <th>Population</th>\n",
              "      <th>Population_year</th>\n",
              "      <th>Base_Emission_per_capita</th>\n",
              "    </tr>\n",
              "    <tr>\n",
              "      <th>Country</th>\n",
              "      <th></th>\n",
              "      <th></th>\n",
              "      <th></th>\n",
              "      <th></th>\n",
              "      <th></th>\n",
              "      <th></th>\n",
              "      <th></th>\n",
              "      <th></th>\n",
              "      <th></th>\n",
              "      <th></th>\n",
              "      <th></th>\n",
              "    </tr>\n",
              "  </thead>\n",
              "  <tbody>\n",
              "    <tr>\n",
              "      <th>Albania</th>\n",
              "      <td>2019</td>\n",
              "      <td>0.0</td>\n",
              "      <td>0.0</td>\n",
              "      <td>0.0</td>\n",
              "      <td>0.0</td>\n",
              "      <td>0.0</td>\n",
              "      <td>0.0</td>\n",
              "      <td>0.000000</td>\n",
              "      <td>0.0</td>\n",
              "      <td>0.0</td>\n",
              "      <td>0.000000</td>\n",
              "    </tr>\n",
              "    <tr>\n",
              "      <th>Argentina</th>\n",
              "      <td>183722</td>\n",
              "      <td>70500.0</td>\n",
              "      <td>70654.0</td>\n",
              "      <td>22249720.6</td>\n",
              "      <td>711.0</td>\n",
              "      <td>71045.0</td>\n",
              "      <td>9272.0</td>\n",
              "      <td>8.000000</td>\n",
              "      <td>11333755.0</td>\n",
              "      <td>116695.0</td>\n",
              "      <td>131.996261</td>\n",
              "    </tr>\n",
              "    <tr>\n",
              "      <th>Australia</th>\n",
              "      <td>48447</td>\n",
              "      <td>26070.0</td>\n",
              "      <td>24178.0</td>\n",
              "      <td>25106542.0</td>\n",
              "      <td>915.0</td>\n",
              "      <td>36563.0</td>\n",
              "      <td>4410224.0</td>\n",
              "      <td>373.634782</td>\n",
              "      <td>3092481.0</td>\n",
              "      <td>38339.0</td>\n",
              "      <td>225.601626</td>\n",
              "    </tr>\n",
              "    <tr>\n",
              "      <th>Bangladesh</th>\n",
              "      <td>4037</td>\n",
              "      <td>0.0</td>\n",
              "      <td>0.0</td>\n",
              "      <td>0.0</td>\n",
              "      <td>0.0</td>\n",
              "      <td>0.0</td>\n",
              "      <td>0.0</td>\n",
              "      <td>0.000000</td>\n",
              "      <td>6000000.0</td>\n",
              "      <td>2019.0</td>\n",
              "      <td>0.000000</td>\n",
              "    </tr>\n",
              "    <tr>\n",
              "      <th>Belgium</th>\n",
              "      <td>2019</td>\n",
              "      <td>2008.0</td>\n",
              "      <td>2016.0</td>\n",
              "      <td>1171498.0</td>\n",
              "      <td>40.0</td>\n",
              "      <td>2030.0</td>\n",
              "      <td>702899.0</td>\n",
              "      <td>42.000000</td>\n",
              "      <td>179277.0</td>\n",
              "      <td>2018.0</td>\n",
              "      <td>6.534569</td>\n",
              "    </tr>\n",
              "    <tr>\n",
              "      <th>...</th>\n",
              "      <td>...</td>\n",
              "      <td>...</td>\n",
              "      <td>...</td>\n",
              "      <td>...</td>\n",
              "      <td>...</td>\n",
              "      <td>...</td>\n",
              "      <td>...</td>\n",
              "      <td>...</td>\n",
              "      <td>...</td>\n",
              "      <td>...</td>\n",
              "      <td>...</td>\n",
              "    </tr>\n",
              "    <tr>\n",
              "      <th>Uruguay</th>\n",
              "      <td>2019</td>\n",
              "      <td>0.0</td>\n",
              "      <td>0.0</td>\n",
              "      <td>0.0</td>\n",
              "      <td>0.0</td>\n",
              "      <td>0.0</td>\n",
              "      <td>0.0</td>\n",
              "      <td>0.000000</td>\n",
              "      <td>1380432.0</td>\n",
              "      <td>2016.0</td>\n",
              "      <td>0.000000</td>\n",
              "    </tr>\n",
              "    <tr>\n",
              "      <th>Venezuela (Bolivarian Republic of)</th>\n",
              "      <td>2019</td>\n",
              "      <td>0.0</td>\n",
              "      <td>0.0</td>\n",
              "      <td>0.0</td>\n",
              "      <td>0.0</td>\n",
              "      <td>0.0</td>\n",
              "      <td>0.0</td>\n",
              "      <td>0.000000</td>\n",
              "      <td>0.0</td>\n",
              "      <td>0.0</td>\n",
              "      <td>0.000000</td>\n",
              "    </tr>\n",
              "    <tr>\n",
              "      <th>Viet Nam</th>\n",
              "      <td>8075</td>\n",
              "      <td>4036.0</td>\n",
              "      <td>4038.0</td>\n",
              "      <td>1527527.0</td>\n",
              "      <td>0.7</td>\n",
              "      <td>4080.0</td>\n",
              "      <td>1060827.5</td>\n",
              "      <td>0.000000</td>\n",
              "      <td>778550.0</td>\n",
              "      <td>6054.0</td>\n",
              "      <td>6.646333</td>\n",
              "    </tr>\n",
              "    <tr>\n",
              "      <th>Zambia</th>\n",
              "      <td>6055</td>\n",
              "      <td>0.0</td>\n",
              "      <td>0.0</td>\n",
              "      <td>0.0</td>\n",
              "      <td>0.0</td>\n",
              "      <td>0.0</td>\n",
              "      <td>0.0</td>\n",
              "      <td>0.000000</td>\n",
              "      <td>182205.0</td>\n",
              "      <td>2016.0</td>\n",
              "      <td>0.000000</td>\n",
              "    </tr>\n",
              "    <tr>\n",
              "      <th>Zimbabwe</th>\n",
              "      <td>4037</td>\n",
              "      <td>0.0</td>\n",
              "      <td>0.0</td>\n",
              "      <td>0.0</td>\n",
              "      <td>0.0</td>\n",
              "      <td>0.0</td>\n",
              "      <td>0.0</td>\n",
              "      <td>0.000000</td>\n",
              "      <td>1836552.0</td>\n",
              "      <td>2019.0</td>\n",
              "      <td>0.000000</td>\n",
              "    </tr>\n",
              "  </tbody>\n",
              "</table>\n",
              "<p>94 rows × 11 columns</p>\n",
              "</div>"
            ],
            "text/plain": [
              "                                    Year_CDP  ...  Base_Emission_per_capita\n",
              "Country                                       ...                          \n",
              "Albania                                 2019  ...                  0.000000\n",
              "Argentina                             183722  ...                131.996261\n",
              "Australia                              48447  ...                225.601626\n",
              "Bangladesh                              4037  ...                  0.000000\n",
              "Belgium                                 2019  ...                  6.534569\n",
              "...                                      ...  ...                       ...\n",
              "Uruguay                                 2019  ...                  0.000000\n",
              "Venezuela (Bolivarian Republic of)      2019  ...                  0.000000\n",
              "Viet Nam                                8075  ...                  6.646333\n",
              "Zambia                                  6055  ...                  0.000000\n",
              "Zimbabwe                                4037  ...                  0.000000\n",
              "\n",
              "[94 rows x 11 columns]"
            ]
          },
          "metadata": {
            "tags": []
          },
          "execution_count": 26
        }
      ]
    },
    {
      "cell_type": "code",
      "metadata": {
        "colab": {
          "base_uri": "https://localhost:8080/",
          "height": 296
        },
        "id": "d42zwBWClPk9",
        "outputId": "7806cd30-0d4f-4572-a2ca-a5667b9edcaa"
      },
      "source": [
        "data_countrywise.sum()['Base_year_emissions'].sort_values(ascending=True)[-10:].plot.barh()"
      ],
      "execution_count": 27,
      "outputs": [
        {
          "output_type": "execute_result",
          "data": {
            "text/plain": [
              "<matplotlib.axes._subplots.AxesSubplot at 0x7fbcc851f208>"
            ]
          },
          "metadata": {
            "tags": []
          },
          "execution_count": 27
        },
        {
          "output_type": "display_data",
          "data": {
            "image/png": "[encoded data removed]",
            "text/plain": [
              "<Figure size 432x288 with 1 Axes>"
            ]
          },
          "metadata": {
            "tags": [],
            "needs_background": "light"
          }
        }
      ]
    },
    {
      "cell_type": "code",
      "metadata": {
        "id": "VCgrEOZmDYql"
      },
      "source": [
        "data_dropped['Target_Emission/capita'] = data_dropped['Target_emissions']/data_dropped['Population']\n",
        "data_dropped['Base_Emission/capita'] = data_dropped['Target_emissions']/data_dropped['Population']"
      ],
      "execution_count": 28,
      "outputs": []
    },
    {
      "cell_type": "code",
      "metadata": {
        "colab": {
          "base_uri": "https://localhost:8080/"
        },
        "id": "J-wHBT_W2q34",
        "outputId": "89938743-32dd-450e-983b-a3372485d02a"
      },
      "source": [
        "data_countrywise['Base_year_emissions'].sum().sort_values()"
      ],
      "execution_count": 29,
      "outputs": [
        {
          "output_type": "execute_result",
          "data": {
            "text/plain": [
              "Country\n",
              "Albania                                                 0.000000e+00\n",
              "Gibraltar                                               0.000000e+00\n",
              "Honduras                                                0.000000e+00\n",
              "Israel                                                  0.000000e+00\n",
              "Kenya                                                   0.000000e+00\n",
              "                                                            ...     \n",
              "Taiwan, Greater China                                   3.421337e+08\n",
              "United Kingdom of Great Britain and Northern Ireland    3.625740e+08\n",
              "Canada                                                  6.066301e+08\n",
              "Côte d'Ivoire                                           9.404589e+08\n",
              "United States of America                                1.536851e+09\n",
              "Name: Base_year_emissions, Length: 94, dtype: float64"
            ]
          },
          "metadata": {
            "tags": []
          },
          "execution_count": 29
        }
      ]
    },
    {
      "cell_type": "code",
      "metadata": {
        "id": "71HJsJka3K26"
      },
      "source": [
        "# To exclude countries where too little population exist or Base emission is null\n",
        "min_population = 10000000\n",
        "min_emission = 0\n",
        "data_top20_emission_capital = \\\n",
        "((data_countrywise['Base_year_emissions'].sum().loc[data_countrywise['Base_year_emissions'].sum()>min_emission])\\\n",
        "/data_countrywise['Population'].sum().loc[data_countrywise['Population'].sum()>min_population]).sort_values(ascending=True)#[:20]"
      ],
      "execution_count": 30,
      "outputs": []
    },
    {
      "cell_type": "code",
      "metadata": {
        "colab": {
          "base_uri": "https://localhost:8080/",
          "height": 286
        },
        "id": "Jca4De-tnGpY",
        "outputId": "90ea0e82-118b-45fe-eed6-706f07c4e51e"
      },
      "source": [
        "data_top20_emission_capital.plot.barh()"
      ],
      "execution_count": 31,
      "outputs": [
        {
          "output_type": "execute_result",
          "data": {
            "text/plain": [
              "<matplotlib.axes._subplots.AxesSubplot at 0x7fbcc67628d0>"
            ]
          },
          "metadata": {
            "tags": []
          },
          "execution_count": 31
        },
        {
          "output_type": "display_data",
          "data": {
            "image/png": "[encoded data removed]",
            "text/plain": [
              "<Figure size 432x288 with 1 Axes>"
            ]
          },
          "metadata": {
            "tags": [],
            "needs_background": "light"
          }
        }
      ]
    },
    {
      "cell_type": "code",
      "metadata": {
        "colab": {
          "base_uri": "https://localhost:8080/",
          "height": 351
        },
        "id": "lKWtSuUPvdZY",
        "outputId": "9687adec-9c99-422b-a42b-d7e961bd53d6"
      },
      "source": [
        "data_countrywise['Base_year_emissions'].sum().sort_values(ascending=True)[-5:].plot.barh(figsize=(5,5))"
      ],
      "execution_count": 32,
      "outputs": [
        {
          "output_type": "execute_result",
          "data": {
            "text/plain": [
              "<matplotlib.axes._subplots.AxesSubplot at 0x7fbcc65b6e80>"
            ]
          },
          "metadata": {
            "tags": []
          },
          "execution_count": 32
        },
        {
          "output_type": "display_data",
          "data": {
            "image/png": "[encoded data removed]",
            "text/plain": [
              "<Figure size 360x360 with 1 Axes>"
            ]
          },
          "metadata": {
            "tags": [],
            "needs_background": "light"
          }
        }
      ]
    },
    {
      "cell_type": "markdown",
      "metadata": {
        "id": "jrDPdOAYIvx-"
      },
      "source": [
        "### Top 5 country"
      ]
    },
    {
      "cell_type": "markdown",
      "metadata": {
        "id": "IYdebANJoIJ5"
      },
      "source": [
        "2. What are the average per capita emissions per country? What's the average %-reduction in target values for the top 5 countries by overall emissions?"
      ]
    },
    {
      "cell_type": "code",
      "metadata": {
        "colab": {
          "base_uri": "https://localhost:8080/",
          "height": 499
        },
        "id": "J_cwQtYG9sb5",
        "outputId": "139e8f19-9bc5-4c1f-b427-367737d97dbf"
      },
      "source": [
        "data_type.groupby(['Country']).sum()"
      ],
      "execution_count": 33,
      "outputs": [
        {
          "output_type": "execute_result",
          "data": {
            "text/html": [
              "<div>\n",
              "<style scoped>\n",
              "    .dataframe tbody tr th:only-of-type {\n",
              "        vertical-align: middle;\n",
              "    }\n",
              "\n",
              "    .dataframe tbody tr th {\n",
              "        vertical-align: top;\n",
              "    }\n",
              "\n",
              "    .dataframe thead th {\n",
              "        text-align: right;\n",
              "    }\n",
              "</style>\n",
              "<table border=\"1\" class=\"dataframe\">\n",
              "  <thead>\n",
              "    <tr style=\"text-align: right;\">\n",
              "      <th></th>\n",
              "      <th>Year_CDP</th>\n",
              "      <th>Account</th>\n",
              "      <th>Base_year</th>\n",
              "      <th>Target_implementation</th>\n",
              "      <th>Base_year_emissions</th>\n",
              "      <th>Percentage_reduction</th>\n",
              "      <th>Target_year</th>\n",
              "      <th>Target_emissions</th>\n",
              "      <th>Percentage_target</th>\n",
              "      <th>Population</th>\n",
              "      <th>Population_year</th>\n",
              "    </tr>\n",
              "    <tr>\n",
              "      <th>Country</th>\n",
              "      <th></th>\n",
              "      <th></th>\n",
              "      <th></th>\n",
              "      <th></th>\n",
              "      <th></th>\n",
              "      <th></th>\n",
              "      <th></th>\n",
              "      <th></th>\n",
              "      <th></th>\n",
              "      <th></th>\n",
              "      <th></th>\n",
              "    </tr>\n",
              "  </thead>\n",
              "  <tbody>\n",
              "    <tr>\n",
              "      <th>Albania</th>\n",
              "      <td>2019</td>\n",
              "      <td>59163</td>\n",
              "      <td>0.0</td>\n",
              "      <td>0.0</td>\n",
              "      <td>0.0</td>\n",
              "      <td>0.0</td>\n",
              "      <td>0.0</td>\n",
              "      <td>0.0</td>\n",
              "      <td>0.000000</td>\n",
              "      <td>0.0</td>\n",
              "      <td>0.0</td>\n",
              "    </tr>\n",
              "    <tr>\n",
              "      <th>Argentina</th>\n",
              "      <td>183722</td>\n",
              "      <td>34539824</td>\n",
              "      <td>70500.0</td>\n",
              "      <td>70654.0</td>\n",
              "      <td>22249720.6</td>\n",
              "      <td>711.0</td>\n",
              "      <td>71045.0</td>\n",
              "      <td>9272.0</td>\n",
              "      <td>8.000000</td>\n",
              "      <td>11333755.0</td>\n",
              "      <td>116695.0</td>\n",
              "    </tr>\n",
              "    <tr>\n",
              "      <th>Australia</th>\n",
              "      <td>48447</td>\n",
              "      <td>1162429</td>\n",
              "      <td>26070.0</td>\n",
              "      <td>24178.0</td>\n",
              "      <td>25106542.0</td>\n",
              "      <td>915.0</td>\n",
              "      <td>36563.0</td>\n",
              "      <td>4410224.0</td>\n",
              "      <td>373.634782</td>\n",
              "      <td>3092481.0</td>\n",
              "      <td>38339.0</td>\n",
              "    </tr>\n",
              "    <tr>\n",
              "      <th>Bangladesh</th>\n",
              "      <td>4037</td>\n",
              "      <td>101564</td>\n",
              "      <td>0.0</td>\n",
              "      <td>0.0</td>\n",
              "      <td>0.0</td>\n",
              "      <td>0.0</td>\n",
              "      <td>0.0</td>\n",
              "      <td>0.0</td>\n",
              "      <td>0.000000</td>\n",
              "      <td>6000000.0</td>\n",
              "      <td>2019.0</td>\n",
              "    </tr>\n",
              "    <tr>\n",
              "      <th>Belgium</th>\n",
              "      <td>2019</td>\n",
              "      <td>35854</td>\n",
              "      <td>2008.0</td>\n",
              "      <td>2016.0</td>\n",
              "      <td>1171498.0</td>\n",
              "      <td>40.0</td>\n",
              "      <td>2030.0</td>\n",
              "      <td>702899.0</td>\n",
              "      <td>42.000000</td>\n",
              "      <td>179277.0</td>\n",
              "      <td>2018.0</td>\n",
              "    </tr>\n",
              "    <tr>\n",
              "      <th>...</th>\n",
              "      <td>...</td>\n",
              "      <td>...</td>\n",
              "      <td>...</td>\n",
              "      <td>...</td>\n",
              "      <td>...</td>\n",
              "      <td>...</td>\n",
              "      <td>...</td>\n",
              "      <td>...</td>\n",
              "      <td>...</td>\n",
              "      <td>...</td>\n",
              "      <td>...</td>\n",
              "    </tr>\n",
              "    <tr>\n",
              "      <th>Uruguay</th>\n",
              "      <td>2019</td>\n",
              "      <td>42388</td>\n",
              "      <td>0.0</td>\n",
              "      <td>0.0</td>\n",
              "      <td>0.0</td>\n",
              "      <td>0.0</td>\n",
              "      <td>0.0</td>\n",
              "      <td>0.0</td>\n",
              "      <td>0.000000</td>\n",
              "      <td>1380432.0</td>\n",
              "      <td>2016.0</td>\n",
              "    </tr>\n",
              "    <tr>\n",
              "      <th>Venezuela (Bolivarian Republic of)</th>\n",
              "      <td>2019</td>\n",
              "      <td>840693</td>\n",
              "      <td>0.0</td>\n",
              "      <td>0.0</td>\n",
              "      <td>0.0</td>\n",
              "      <td>0.0</td>\n",
              "      <td>0.0</td>\n",
              "      <td>0.0</td>\n",
              "      <td>0.000000</td>\n",
              "      <td>0.0</td>\n",
              "      <td>0.0</td>\n",
              "    </tr>\n",
              "    <tr>\n",
              "      <th>Viet Nam</th>\n",
              "      <td>8075</td>\n",
              "      <td>2551003</td>\n",
              "      <td>4036.0</td>\n",
              "      <td>4038.0</td>\n",
              "      <td>1527527.0</td>\n",
              "      <td>0.7</td>\n",
              "      <td>4080.0</td>\n",
              "      <td>1060827.5</td>\n",
              "      <td>0.000000</td>\n",
              "      <td>778550.0</td>\n",
              "      <td>6054.0</td>\n",
              "    </tr>\n",
              "    <tr>\n",
              "      <th>Zambia</th>\n",
              "      <td>6055</td>\n",
              "      <td>954983</td>\n",
              "      <td>0.0</td>\n",
              "      <td>0.0</td>\n",
              "      <td>0.0</td>\n",
              "      <td>0.0</td>\n",
              "      <td>0.0</td>\n",
              "      <td>0.0</td>\n",
              "      <td>0.000000</td>\n",
              "      <td>182205.0</td>\n",
              "      <td>2016.0</td>\n",
              "    </tr>\n",
              "    <tr>\n",
              "      <th>Zimbabwe</th>\n",
              "      <td>4037</td>\n",
              "      <td>98718</td>\n",
              "      <td>0.0</td>\n",
              "      <td>0.0</td>\n",
              "      <td>0.0</td>\n",
              "      <td>0.0</td>\n",
              "      <td>0.0</td>\n",
              "      <td>0.0</td>\n",
              "      <td>0.000000</td>\n",
              "      <td>1836552.0</td>\n",
              "      <td>2019.0</td>\n",
              "    </tr>\n",
              "  </tbody>\n",
              "</table>\n",
              "<p>94 rows × 11 columns</p>\n",
              "</div>"
            ],
            "text/plain": [
              "                                    Year_CDP  ...  Population_year\n",
              "Country                                       ...                 \n",
              "Albania                                 2019  ...              0.0\n",
              "Argentina                             183722  ...         116695.0\n",
              "Australia                              48447  ...          38339.0\n",
              "Bangladesh                              4037  ...           2019.0\n",
              "Belgium                                 2019  ...           2018.0\n",
              "...                                      ...  ...              ...\n",
              "Uruguay                                 2019  ...           2016.0\n",
              "Venezuela (Bolivarian Republic of)      2019  ...              0.0\n",
              "Viet Nam                                8075  ...           6054.0\n",
              "Zambia                                  6055  ...           2016.0\n",
              "Zimbabwe                                4037  ...           2019.0\n",
              "\n",
              "[94 rows x 11 columns]"
            ]
          },
          "metadata": {
            "tags": []
          },
          "execution_count": 33
        }
      ]
    },
    {
      "cell_type": "code",
      "metadata": {
        "id": "dW6fc91oVA1l"
      },
      "source": [
        "country_top5 = data_type.groupby(['Country'])['Target_emissions'].sum().sort_values(ascending=False)[:5].keys()#.agg([])"
      ],
      "execution_count": 34,
      "outputs": []
    },
    {
      "cell_type": "code",
      "metadata": {
        "id": "WUhN1bCrWMOw"
      },
      "source": [
        "data_country5 = data_type[data_type.Country.isin(country_top5)]"
      ],
      "execution_count": 35,
      "outputs": []
    },
    {
      "cell_type": "code",
      "metadata": {
        "id": "faj4n6B7ZNmg"
      },
      "source": [
        "# data_country50.groupby(['Country', 'City_boundary'])['Target_emission'].sum()#.sort_values(ascending=False)"
      ],
      "execution_count": 36,
      "outputs": []
    },
    {
      "cell_type": "code",
      "metadata": {
        "id": "6v_6tVeBZaeH",
        "colab": {
          "base_uri": "https://localhost:8080/"
        },
        "outputId": "90d44f21-ece0-4062-b4fe-42434ce76698"
      },
      "source": [
        "data_country5.groupby(['Country'])#['Target_Emission/capita'].sum().sort_values(ascending=True).plot.barh()"
      ],
      "execution_count": 38,
      "outputs": [
        {
          "output_type": "execute_result",
          "data": {
            "text/plain": [
              "<pandas.core.groupby.generic.DataFrameGroupBy object at 0x7fbcc6584550>"
            ]
          },
          "metadata": {
            "tags": []
          },
          "execution_count": 38
        }
      ]
    },
    {
      "cell_type": "code",
      "metadata": {
        "colab": {
          "base_uri": "https://localhost:8080/",
          "height": 499
        },
        "id": "fp0FIkfKqDED",
        "outputId": "8d94f1ac-1481-48a1-c69d-f50fa5f5044c"
      },
      "source": [
        "data_bycountry.sum()#['Estimated_Emissions']#.sort_values(ascending=True)[-10:].plot.barh()"
      ],
      "execution_count": 39,
      "outputs": [
        {
          "output_type": "execute_result",
          "data": {
            "text/html": [
              "<div>\n",
              "<style scoped>\n",
              "    .dataframe tbody tr th:only-of-type {\n",
              "        vertical-align: middle;\n",
              "    }\n",
              "\n",
              "    .dataframe tbody tr th {\n",
              "        vertical-align: top;\n",
              "    }\n",
              "\n",
              "    .dataframe thead th {\n",
              "        text-align: right;\n",
              "    }\n",
              "</style>\n",
              "<table border=\"1\" class=\"dataframe\">\n",
              "  <thead>\n",
              "    <tr style=\"text-align: right;\">\n",
              "      <th></th>\n",
              "      <th>Year_CDP</th>\n",
              "      <th>Account</th>\n",
              "      <th>Base_year</th>\n",
              "      <th>Target_implementation</th>\n",
              "      <th>Base_year_emissions</th>\n",
              "      <th>Percentage_reduction</th>\n",
              "      <th>Target_year</th>\n",
              "      <th>Target_emissions</th>\n",
              "      <th>Percentage_target</th>\n",
              "      <th>Population</th>\n",
              "      <th>Population_year</th>\n",
              "    </tr>\n",
              "    <tr>\n",
              "      <th>Country</th>\n",
              "      <th></th>\n",
              "      <th></th>\n",
              "      <th></th>\n",
              "      <th></th>\n",
              "      <th></th>\n",
              "      <th></th>\n",
              "      <th></th>\n",
              "      <th></th>\n",
              "      <th></th>\n",
              "      <th></th>\n",
              "      <th></th>\n",
              "    </tr>\n",
              "  </thead>\n",
              "  <tbody>\n",
              "    <tr>\n",
              "      <th>Albania</th>\n",
              "      <td>2019</td>\n",
              "      <td>59163</td>\n",
              "      <td>0.0</td>\n",
              "      <td>0.0</td>\n",
              "      <td>0.0</td>\n",
              "      <td>0.0</td>\n",
              "      <td>0.0</td>\n",
              "      <td>0.0</td>\n",
              "      <td>0.000000</td>\n",
              "      <td>0.0</td>\n",
              "      <td>0.0</td>\n",
              "    </tr>\n",
              "    <tr>\n",
              "      <th>Argentina</th>\n",
              "      <td>183722</td>\n",
              "      <td>34539824</td>\n",
              "      <td>70500.0</td>\n",
              "      <td>70654.0</td>\n",
              "      <td>22249720.6</td>\n",
              "      <td>711.0</td>\n",
              "      <td>71045.0</td>\n",
              "      <td>9272.0</td>\n",
              "      <td>8.000000</td>\n",
              "      <td>11333755.0</td>\n",
              "      <td>116695.0</td>\n",
              "    </tr>\n",
              "    <tr>\n",
              "      <th>Australia</th>\n",
              "      <td>48447</td>\n",
              "      <td>1162429</td>\n",
              "      <td>26070.0</td>\n",
              "      <td>24178.0</td>\n",
              "      <td>25106542.0</td>\n",
              "      <td>915.0</td>\n",
              "      <td>36563.0</td>\n",
              "      <td>4410224.0</td>\n",
              "      <td>373.634782</td>\n",
              "      <td>3092481.0</td>\n",
              "      <td>38339.0</td>\n",
              "    </tr>\n",
              "    <tr>\n",
              "      <th>Bangladesh</th>\n",
              "      <td>4037</td>\n",
              "      <td>101564</td>\n",
              "      <td>0.0</td>\n",
              "      <td>0.0</td>\n",
              "      <td>0.0</td>\n",
              "      <td>0.0</td>\n",
              "      <td>0.0</td>\n",
              "      <td>0.0</td>\n",
              "      <td>0.000000</td>\n",
              "      <td>6000000.0</td>\n",
              "      <td>2019.0</td>\n",
              "    </tr>\n",
              "    <tr>\n",
              "      <th>Belgium</th>\n",
              "      <td>2019</td>\n",
              "      <td>35854</td>\n",
              "      <td>2008.0</td>\n",
              "      <td>2016.0</td>\n",
              "      <td>1171498.0</td>\n",
              "      <td>40.0</td>\n",
              "      <td>2030.0</td>\n",
              "      <td>702899.0</td>\n",
              "      <td>42.000000</td>\n",
              "      <td>179277.0</td>\n",
              "      <td>2018.0</td>\n",
              "    </tr>\n",
              "    <tr>\n",
              "      <th>...</th>\n",
              "      <td>...</td>\n",
              "      <td>...</td>\n",
              "      <td>...</td>\n",
              "      <td>...</td>\n",
              "      <td>...</td>\n",
              "      <td>...</td>\n",
              "      <td>...</td>\n",
              "      <td>...</td>\n",
              "      <td>...</td>\n",
              "      <td>...</td>\n",
              "      <td>...</td>\n",
              "    </tr>\n",
              "    <tr>\n",
              "      <th>Uruguay</th>\n",
              "      <td>2019</td>\n",
              "      <td>42388</td>\n",
              "      <td>0.0</td>\n",
              "      <td>0.0</td>\n",
              "      <td>0.0</td>\n",
              "      <td>0.0</td>\n",
              "      <td>0.0</td>\n",
              "      <td>0.0</td>\n",
              "      <td>0.000000</td>\n",
              "      <td>1380432.0</td>\n",
              "      <td>2016.0</td>\n",
              "    </tr>\n",
              "    <tr>\n",
              "      <th>Venezuela (Bolivarian Republic of)</th>\n",
              "      <td>2019</td>\n",
              "      <td>840693</td>\n",
              "      <td>0.0</td>\n",
              "      <td>0.0</td>\n",
              "      <td>0.0</td>\n",
              "      <td>0.0</td>\n",
              "      <td>0.0</td>\n",
              "      <td>0.0</td>\n",
              "      <td>0.000000</td>\n",
              "      <td>0.0</td>\n",
              "      <td>0.0</td>\n",
              "    </tr>\n",
              "    <tr>\n",
              "      <th>Viet Nam</th>\n",
              "      <td>8075</td>\n",
              "      <td>2551003</td>\n",
              "      <td>4036.0</td>\n",
              "      <td>4038.0</td>\n",
              "      <td>1527527.0</td>\n",
              "      <td>0.7</td>\n",
              "      <td>4080.0</td>\n",
              "      <td>1060827.5</td>\n",
              "      <td>0.000000</td>\n",
              "      <td>778550.0</td>\n",
              "      <td>6054.0</td>\n",
              "    </tr>\n",
              "    <tr>\n",
              "      <th>Zambia</th>\n",
              "      <td>6055</td>\n",
              "      <td>954983</td>\n",
              "      <td>0.0</td>\n",
              "      <td>0.0</td>\n",
              "      <td>0.0</td>\n",
              "      <td>0.0</td>\n",
              "      <td>0.0</td>\n",
              "      <td>0.0</td>\n",
              "      <td>0.000000</td>\n",
              "      <td>182205.0</td>\n",
              "      <td>2016.0</td>\n",
              "    </tr>\n",
              "    <tr>\n",
              "      <th>Zimbabwe</th>\n",
              "      <td>4037</td>\n",
              "      <td>98718</td>\n",
              "      <td>0.0</td>\n",
              "      <td>0.0</td>\n",
              "      <td>0.0</td>\n",
              "      <td>0.0</td>\n",
              "      <td>0.0</td>\n",
              "      <td>0.0</td>\n",
              "      <td>0.000000</td>\n",
              "      <td>1836552.0</td>\n",
              "      <td>2019.0</td>\n",
              "    </tr>\n",
              "  </tbody>\n",
              "</table>\n",
              "<p>94 rows × 11 columns</p>\n",
              "</div>"
            ],
            "text/plain": [
              "                                    Year_CDP  ...  Population_year\n",
              "Country                                       ...                 \n",
              "Albania                                 2019  ...              0.0\n",
              "Argentina                             183722  ...         116695.0\n",
              "Australia                              48447  ...          38339.0\n",
              "Bangladesh                              4037  ...           2019.0\n",
              "Belgium                                 2019  ...           2018.0\n",
              "...                                      ...  ...              ...\n",
              "Uruguay                                 2019  ...           2016.0\n",
              "Venezuela (Bolivarian Republic of)      2019  ...              0.0\n",
              "Viet Nam                                8075  ...           6054.0\n",
              "Zambia                                  6055  ...           2016.0\n",
              "Zimbabwe                                4037  ...           2019.0\n",
              "\n",
              "[94 rows x 11 columns]"
            ]
          },
          "metadata": {
            "tags": []
          },
          "execution_count": 39
        }
      ]
    },
    {
      "cell_type": "code",
      "metadata": {
        "id": "wBWsQPLsU8dn",
        "colab": {
          "base_uri": "https://localhost:8080/",
          "height": 283
        },
        "outputId": "ead8103a-eebf-458b-87ec-ad2b680def19"
      },
      "source": [
        "data_country5.groupby(['Country'])['Percentage_reduction'].mean().plot.barh()"
      ],
      "execution_count": 40,
      "outputs": [
        {
          "output_type": "execute_result",
          "data": {
            "text/plain": [
              "<matplotlib.axes._subplots.AxesSubplot at 0x7fbcc651e320>"
            ]
          },
          "metadata": {
            "tags": []
          },
          "execution_count": 40
        },
        {
          "output_type": "display_data",
          "data": {
            "image/png": "[encoded data removed]",
            "text/plain": [
              "<Figure size 432x288 with 1 Axes>"
            ]
          },
          "metadata": {
            "tags": [],
            "needs_background": "light"
          }
        }
      ]
    },
    {
      "cell_type": "markdown",
      "metadata": {
        "id": "QDB5Z8kVu4bH"
      },
      "source": [
        "## Modeling Emission reduction"
      ]
    },
    {
      "cell_type": "code",
      "metadata": {
        "id": "X0M5bNqs4pFP"
      },
      "source": [
        "from sklearn.model_selection import train_test_split\n",
        "seed = 42\n",
        "\n",
        "train, test = train_test_split(data_country5, test_size = 0.2, random_state=seed, shuffle = True)#, stratify = data_country5['car_price_bins'])"
      ],
      "execution_count": 41,
      "outputs": []
    },
    {
      "cell_type": "code",
      "metadata": {
        "id": "OAVGWowq5uGf"
      },
      "source": [
        "X_train, X_test = train.drop('Base_year_emissions', axis = 1).copy(), test.drop('Base_year_emissions', axis = 1).copy()\n",
        "y_train, y_test = train['Base_year_emissions'].copy(), test['Base_year_emissions'].copy()"
      ],
      "execution_count": 42,
      "outputs": []
    },
    {
      "cell_type": "code",
      "metadata": {
        "id": "9sazJhku39Dc"
      },
      "source": [
        "from sklearn.model_selection import cross_val_score\n",
        "from sklearn.metrics import mean_squared_error, mean_absolute_error, r2_score\n",
        "from math import sqrt"
      ],
      "execution_count": 43,
      "outputs": []
    },
    {
      "cell_type": "code",
      "metadata": {
        "id": "lYHhZXEk6P_U"
      },
      "source": [
        "cat_var = train.columns[train.dtypes == 'object'].to_list()\n"
      ],
      "execution_count": 44,
      "outputs": []
    },
    {
      "cell_type": "code",
      "metadata": {
        "colab": {
          "base_uri": "https://localhost:8080/"
        },
        "id": "j77RQ3UD6aIG",
        "outputId": "8677fe3a-6ae6-4b28-bc89-f62711cf837b"
      },
      "source": [
        "cat_var"
      ],
      "execution_count": 45,
      "outputs": [
        {
          "output_type": "execute_result",
          "data": {
            "text/plain": [
              "['Organization',\n",
              " 'City',\n",
              " 'Country',\n",
              " 'CDP_region',\n",
              " 'Report_authority',\n",
              " 'Access',\n",
              " 'City_boundary',\n",
              " 'Type_target',\n",
              " 'Sector',\n",
              " 'Target_boundary',\n",
              " 'Sector_target',\n",
              " 'Paris_agreement',\n",
              " 'Higher_level',\n",
              " 'City_location']"
            ]
          },
          "metadata": {
            "tags": []
          },
          "execution_count": 45
        }
      ]
    },
    {
      "cell_type": "code",
      "metadata": {
        "colab": {
          "base_uri": "https://localhost:8080/",
          "height": 1000
        },
        "id": "xb4g_4DC7oVj",
        "outputId": "8acff04b-d8bd-48b2-c1e5-7bf6fbd5eb56"
      },
      "source": [
        "X_train[cat_var]"
      ],
      "execution_count": 46,
      "outputs": [
        {
          "output_type": "execute_result",
          "data": {
            "text/html": [
              "<div>\n",
              "<style scoped>\n",
              "    .dataframe tbody tr th:only-of-type {\n",
              "        vertical-align: middle;\n",
              "    }\n",
              "\n",
              "    .dataframe tbody tr th {\n",
              "        vertical-align: top;\n",
              "    }\n",
              "\n",
              "    .dataframe thead th {\n",
              "        text-align: right;\n",
              "    }\n",
              "</style>\n",
              "<table border=\"1\" class=\"dataframe\">\n",
              "  <thead>\n",
              "    <tr style=\"text-align: right;\">\n",
              "      <th></th>\n",
              "      <th>Organization</th>\n",
              "      <th>City</th>\n",
              "      <th>Country</th>\n",
              "      <th>CDP_region</th>\n",
              "      <th>Report_authority</th>\n",
              "      <th>Access</th>\n",
              "      <th>City_boundary</th>\n",
              "      <th>Type_target</th>\n",
              "      <th>Sector</th>\n",
              "      <th>Target_boundary</th>\n",
              "      <th>Sector_target</th>\n",
              "      <th>Paris_agreement</th>\n",
              "      <th>Higher_level</th>\n",
              "      <th>City_location</th>\n",
              "    </tr>\n",
              "  </thead>\n",
              "  <tbody>\n",
              "    <tr>\n",
              "      <th>782</th>\n",
              "      <td>City of Lakewood</td>\n",
              "      <td>Lakewood</td>\n",
              "      <td>United States of America</td>\n",
              "      <td>North America</td>\n",
              "      <td>CDP Cities, ICLEI - Local Governments for Sust...</td>\n",
              "      <td>public</td>\n",
              "      <td>City / Municipality</td>\n",
              "      <td>Base year emissions (absolute) target</td>\n",
              "      <td>All emissions sources included in city inventory</td>\n",
              "      <td>Same – covers entire city and nothing else</td>\n",
              "      <td>Commercial buildings, Energy industry, Heating...</td>\n",
              "      <td>No</td>\n",
              "      <td>No</td>\n",
              "      <td>POINT (-105.081 39.7047)</td>\n",
              "    </tr>\n",
              "    <tr>\n",
              "      <th>1718</th>\n",
              "      <td>City of South Miami, FL</td>\n",
              "      <td>South Miami</td>\n",
              "      <td>United States of America</td>\n",
              "      <td>North America</td>\n",
              "      <td>CDP Cities, ICLEI - Local Governments for Sust...</td>\n",
              "      <td>public</td>\n",
              "      <td>Local government area within a city / metropol...</td>\n",
              "      <td>Base year intensity target</td>\n",
              "      <td>All emissions sources included in city inventory</td>\n",
              "      <td>NaN</td>\n",
              "      <td>NaN</td>\n",
              "      <td>Yes - 1.5 °C</td>\n",
              "      <td>No</td>\n",
              "      <td>POINT (-80.1918 25.7617)</td>\n",
              "    </tr>\n",
              "    <tr>\n",
              "      <th>1338</th>\n",
              "      <td>Town of Blacksburg</td>\n",
              "      <td>Blacksburg</td>\n",
              "      <td>United States of America</td>\n",
              "      <td>North America</td>\n",
              "      <td>CDP Cities, ICLEI - Local Governments for Sust...</td>\n",
              "      <td>public</td>\n",
              "      <td>NaN</td>\n",
              "      <td>NaN</td>\n",
              "      <td>NaN</td>\n",
              "      <td>NaN</td>\n",
              "      <td>NaN</td>\n",
              "      <td>NaN</td>\n",
              "      <td>NaN</td>\n",
              "      <td>POINT (-80.4139 37.2296)</td>\n",
              "    </tr>\n",
              "    <tr>\n",
              "      <th>1612</th>\n",
              "      <td>City of Philadelphia</td>\n",
              "      <td>Philadelphia</td>\n",
              "      <td>United States of America</td>\n",
              "      <td>North America</td>\n",
              "      <td>C40, CDP Cities, ICLEI - Local Governments for...</td>\n",
              "      <td>public</td>\n",
              "      <td>City / Municipality</td>\n",
              "      <td>Absolute target</td>\n",
              "      <td>Total city-wide emissions</td>\n",
              "      <td>NaN</td>\n",
              "      <td>NaN</td>\n",
              "      <td>NaN</td>\n",
              "      <td>NaN</td>\n",
              "      <td>POINT (-75.1638 39.9523)</td>\n",
              "    </tr>\n",
              "    <tr>\n",
              "      <th>1124</th>\n",
              "      <td>City of Providence</td>\n",
              "      <td>Providence</td>\n",
              "      <td>United States of America</td>\n",
              "      <td>North America</td>\n",
              "      <td>CDP Cities, ICLEI - Local Governments for Sust...</td>\n",
              "      <td>public</td>\n",
              "      <td>City / Municipality</td>\n",
              "      <td>Absolute target</td>\n",
              "      <td>Total city-wide emissions</td>\n",
              "      <td>NaN</td>\n",
              "      <td>NaN</td>\n",
              "      <td>NaN</td>\n",
              "      <td>NaN</td>\n",
              "      <td>POINT (-71.4128 41.824)</td>\n",
              "    </tr>\n",
              "    <tr>\n",
              "      <th>...</th>\n",
              "      <td>...</td>\n",
              "      <td>...</td>\n",
              "      <td>...</td>\n",
              "      <td>...</td>\n",
              "      <td>...</td>\n",
              "      <td>...</td>\n",
              "      <td>...</td>\n",
              "      <td>...</td>\n",
              "      <td>...</td>\n",
              "      <td>...</td>\n",
              "      <td>...</td>\n",
              "      <td>...</td>\n",
              "      <td>...</td>\n",
              "      <td>...</td>\n",
              "    </tr>\n",
              "    <tr>\n",
              "      <th>223</th>\n",
              "      <td>City of Brisbane, CA</td>\n",
              "      <td>Brisbane, CA</td>\n",
              "      <td>United States of America</td>\n",
              "      <td>North America</td>\n",
              "      <td>CDP Cities, ICLEI - Local Governments for Sust...</td>\n",
              "      <td>public</td>\n",
              "      <td>City / Municipality</td>\n",
              "      <td>Base year emissions (absolute) target</td>\n",
              "      <td>All emissions sources included in city inventory</td>\n",
              "      <td>Same – covers entire city and nothing else</td>\n",
              "      <td>NaN</td>\n",
              "      <td>NaN</td>\n",
              "      <td>Yes</td>\n",
              "      <td>POINT (-122.4 37.6808)</td>\n",
              "    </tr>\n",
              "    <tr>\n",
              "      <th>311</th>\n",
              "      <td>City of Piedmont, CA</td>\n",
              "      <td>Piedmont</td>\n",
              "      <td>United States of America</td>\n",
              "      <td>North America</td>\n",
              "      <td>CDP Cities, ICLEI - Local Governments for Sust...</td>\n",
              "      <td>public</td>\n",
              "      <td>City / Municipality</td>\n",
              "      <td>Base year emissions (absolute) target</td>\n",
              "      <td>All emissions sources included in city inventory</td>\n",
              "      <td>Larger – covers the whole city and adjoining a...</td>\n",
              "      <td>Commercial buildings, Energy industry, Heating...</td>\n",
              "      <td>Other: It has 40% by 2030, but by 2005 year no...</td>\n",
              "      <td>Yes</td>\n",
              "      <td>POINT (-122.232 37.8244)</td>\n",
              "    </tr>\n",
              "    <tr>\n",
              "      <th>863</th>\n",
              "      <td>City of Beverly, MA</td>\n",
              "      <td>NaN</td>\n",
              "      <td>United States of America</td>\n",
              "      <td>North America</td>\n",
              "      <td>CDP Cities, ICLEI - Local Governments for Sust...</td>\n",
              "      <td>public</td>\n",
              "      <td>City / Municipality</td>\n",
              "      <td>No target</td>\n",
              "      <td>NaN</td>\n",
              "      <td>NaN</td>\n",
              "      <td>NaN</td>\n",
              "      <td>NaN</td>\n",
              "      <td>NaN</td>\n",
              "      <td>NaN</td>\n",
              "    </tr>\n",
              "    <tr>\n",
              "      <th>1391</th>\n",
              "      <td>City of Tempe, AZ</td>\n",
              "      <td>Tempe</td>\n",
              "      <td>United States of America</td>\n",
              "      <td>North America</td>\n",
              "      <td>CDP Cities, ICLEI - Local Governments for Sust...</td>\n",
              "      <td>public</td>\n",
              "      <td>NaN</td>\n",
              "      <td>NaN</td>\n",
              "      <td>NaN</td>\n",
              "      <td>NaN</td>\n",
              "      <td>NaN</td>\n",
              "      <td>NaN</td>\n",
              "      <td>NaN</td>\n",
              "      <td>POINT (-111.94 33.4255)</td>\n",
              "    </tr>\n",
              "    <tr>\n",
              "      <th>304</th>\n",
              "      <td>City of Cincinnati</td>\n",
              "      <td>Cincinnati</td>\n",
              "      <td>United States of America</td>\n",
              "      <td>North America</td>\n",
              "      <td>CDP Cities, ICLEI - Local Governments for Sust...</td>\n",
              "      <td>public</td>\n",
              "      <td>City / Municipality</td>\n",
              "      <td>Base year emissions (absolute) target</td>\n",
              "      <td>All emissions sources included in city inventory</td>\n",
              "      <td>Same – covers entire city and nothing else</td>\n",
              "      <td>Commercial buildings, Energy industry, Industr...</td>\n",
              "      <td>Yes - 1.5 °C</td>\n",
              "      <td>No</td>\n",
              "      <td>POINT (-84.512 39.1031)</td>\n",
              "    </tr>\n",
              "  </tbody>\n",
              "</table>\n",
              "<p>432 rows × 14 columns</p>\n",
              "</div>"
            ],
            "text/plain": [
              "                 Organization  ...             City_location\n",
              "782          City of Lakewood  ...  POINT (-105.081 39.7047)\n",
              "1718  City of South Miami, FL  ...  POINT (-80.1918 25.7617)\n",
              "1338       Town of Blacksburg  ...  POINT (-80.4139 37.2296)\n",
              "1612     City of Philadelphia  ...  POINT (-75.1638 39.9523)\n",
              "1124       City of Providence  ...   POINT (-71.4128 41.824)\n",
              "...                       ...  ...                       ...\n",
              "223      City of Brisbane, CA  ...    POINT (-122.4 37.6808)\n",
              "311      City of Piedmont, CA  ...  POINT (-122.232 37.8244)\n",
              "863       City of Beverly, MA  ...                       NaN\n",
              "1391        City of Tempe, AZ  ...   POINT (-111.94 33.4255)\n",
              "304        City of Cincinnati  ...   POINT (-84.512 39.1031)\n",
              "\n",
              "[432 rows x 14 columns]"
            ]
          },
          "metadata": {
            "tags": []
          },
          "execution_count": 46
        }
      ]
    },
    {
      "cell_type": "code",
      "metadata": {
        "id": "Z59iZvygu7T6"
      },
      "source": [
        "!pip install -q catboost"
      ],
      "execution_count": 47,
      "outputs": []
    },
    {
      "cell_type": "code",
      "metadata": {
        "id": "YUJMpb4Wy3w-"
      },
      "source": [
        "from catboost import CatBoostRegressor, Pool"
      ],
      "execution_count": 48,
      "outputs": []
    },
    {
      "cell_type": "code",
      "metadata": {
        "id": "saC14LiTM1x1"
      },
      "source": [
        "import plotly.express as px"
      ],
      "execution_count": 49,
      "outputs": []
    },
    {
      "cell_type": "code",
      "metadata": {
        "colab": {
          "base_uri": "https://localhost:8080/",
          "height": 1000
        },
        "id": "5hn4o2r8855j",
        "outputId": "c1940607-03e7-4591-86c9-f09183d357c0"
      },
      "source": [
        "X_train[cat_var]"
      ],
      "execution_count": 50,
      "outputs": [
        {
          "output_type": "execute_result",
          "data": {
            "text/html": [
              "<div>\n",
              "<style scoped>\n",
              "    .dataframe tbody tr th:only-of-type {\n",
              "        vertical-align: middle;\n",
              "    }\n",
              "\n",
              "    .dataframe tbody tr th {\n",
              "        vertical-align: top;\n",
              "    }\n",
              "\n",
              "    .dataframe thead th {\n",
              "        text-align: right;\n",
              "    }\n",
              "</style>\n",
              "<table border=\"1\" class=\"dataframe\">\n",
              "  <thead>\n",
              "    <tr style=\"text-align: right;\">\n",
              "      <th></th>\n",
              "      <th>Organization</th>\n",
              "      <th>City</th>\n",
              "      <th>Country</th>\n",
              "      <th>CDP_region</th>\n",
              "      <th>Report_authority</th>\n",
              "      <th>Access</th>\n",
              "      <th>City_boundary</th>\n",
              "      <th>Type_target</th>\n",
              "      <th>Sector</th>\n",
              "      <th>Target_boundary</th>\n",
              "      <th>Sector_target</th>\n",
              "      <th>Paris_agreement</th>\n",
              "      <th>Higher_level</th>\n",
              "      <th>City_location</th>\n",
              "    </tr>\n",
              "  </thead>\n",
              "  <tbody>\n",
              "    <tr>\n",
              "      <th>782</th>\n",
              "      <td>City of Lakewood</td>\n",
              "      <td>Lakewood</td>\n",
              "      <td>United States of America</td>\n",
              "      <td>North America</td>\n",
              "      <td>CDP Cities, ICLEI - Local Governments for Sust...</td>\n",
              "      <td>public</td>\n",
              "      <td>City / Municipality</td>\n",
              "      <td>Base year emissions (absolute) target</td>\n",
              "      <td>All emissions sources included in city inventory</td>\n",
              "      <td>Same – covers entire city and nothing else</td>\n",
              "      <td>Commercial buildings, Energy industry, Heating...</td>\n",
              "      <td>No</td>\n",
              "      <td>No</td>\n",
              "      <td>POINT (-105.081 39.7047)</td>\n",
              "    </tr>\n",
              "    <tr>\n",
              "      <th>1718</th>\n",
              "      <td>City of South Miami, FL</td>\n",
              "      <td>South Miami</td>\n",
              "      <td>United States of America</td>\n",
              "      <td>North America</td>\n",
              "      <td>CDP Cities, ICLEI - Local Governments for Sust...</td>\n",
              "      <td>public</td>\n",
              "      <td>Local government area within a city / metropol...</td>\n",
              "      <td>Base year intensity target</td>\n",
              "      <td>All emissions sources included in city inventory</td>\n",
              "      <td>NaN</td>\n",
              "      <td>NaN</td>\n",
              "      <td>Yes - 1.5 °C</td>\n",
              "      <td>No</td>\n",
              "      <td>POINT (-80.1918 25.7617)</td>\n",
              "    </tr>\n",
              "    <tr>\n",
              "      <th>1338</th>\n",
              "      <td>Town of Blacksburg</td>\n",
              "      <td>Blacksburg</td>\n",
              "      <td>United States of America</td>\n",
              "      <td>North America</td>\n",
              "      <td>CDP Cities, ICLEI - Local Governments for Sust...</td>\n",
              "      <td>public</td>\n",
              "      <td>NaN</td>\n",
              "      <td>NaN</td>\n",
              "      <td>NaN</td>\n",
              "      <td>NaN</td>\n",
              "      <td>NaN</td>\n",
              "      <td>NaN</td>\n",
              "      <td>NaN</td>\n",
              "      <td>POINT (-80.4139 37.2296)</td>\n",
              "    </tr>\n",
              "    <tr>\n",
              "      <th>1612</th>\n",
              "      <td>City of Philadelphia</td>\n",
              "      <td>Philadelphia</td>\n",
              "      <td>United States of America</td>\n",
              "      <td>North America</td>\n",
              "      <td>C40, CDP Cities, ICLEI - Local Governments for...</td>\n",
              "      <td>public</td>\n",
              "      <td>City / Municipality</td>\n",
              "      <td>Absolute target</td>\n",
              "      <td>Total city-wide emissions</td>\n",
              "      <td>NaN</td>\n",
              "      <td>NaN</td>\n",
              "      <td>NaN</td>\n",
              "      <td>NaN</td>\n",
              "      <td>POINT (-75.1638 39.9523)</td>\n",
              "    </tr>\n",
              "    <tr>\n",
              "      <th>1124</th>\n",
              "      <td>City of Providence</td>\n",
              "      <td>Providence</td>\n",
              "      <td>United States of America</td>\n",
              "      <td>North America</td>\n",
              "      <td>CDP Cities, ICLEI - Local Governments for Sust...</td>\n",
              "      <td>public</td>\n",
              "      <td>City / Municipality</td>\n",
              "      <td>Absolute target</td>\n",
              "      <td>Total city-wide emissions</td>\n",
              "      <td>NaN</td>\n",
              "      <td>NaN</td>\n",
              "      <td>NaN</td>\n",
              "      <td>NaN</td>\n",
              "      <td>POINT (-71.4128 41.824)</td>\n",
              "    </tr>\n",
              "    <tr>\n",
              "      <th>...</th>\n",
              "      <td>...</td>\n",
              "      <td>...</td>\n",
              "      <td>...</td>\n",
              "      <td>...</td>\n",
              "      <td>...</td>\n",
              "      <td>...</td>\n",
              "      <td>...</td>\n",
              "      <td>...</td>\n",
              "      <td>...</td>\n",
              "      <td>...</td>\n",
              "      <td>...</td>\n",
              "      <td>...</td>\n",
              "      <td>...</td>\n",
              "      <td>...</td>\n",
              "    </tr>\n",
              "    <tr>\n",
              "      <th>223</th>\n",
              "      <td>City of Brisbane, CA</td>\n",
              "      <td>Brisbane, CA</td>\n",
              "      <td>United States of America</td>\n",
              "      <td>North America</td>\n",
              "      <td>CDP Cities, ICLEI - Local Governments for Sust...</td>\n",
              "      <td>public</td>\n",
              "      <td>City / Municipality</td>\n",
              "      <td>Base year emissions (absolute) target</td>\n",
              "      <td>All emissions sources included in city inventory</td>\n",
              "      <td>Same – covers entire city and nothing else</td>\n",
              "      <td>NaN</td>\n",
              "      <td>NaN</td>\n",
              "      <td>Yes</td>\n",
              "      <td>POINT (-122.4 37.6808)</td>\n",
              "    </tr>\n",
              "    <tr>\n",
              "      <th>311</th>\n",
              "      <td>City of Piedmont, CA</td>\n",
              "      <td>Piedmont</td>\n",
              "      <td>United States of America</td>\n",
              "      <td>North America</td>\n",
              "      <td>CDP Cities, ICLEI - Local Governments for Sust...</td>\n",
              "      <td>public</td>\n",
              "      <td>City / Municipality</td>\n",
              "      <td>Base year emissions (absolute) target</td>\n",
              "      <td>All emissions sources included in city inventory</td>\n",
              "      <td>Larger – covers the whole city and adjoining a...</td>\n",
              "      <td>Commercial buildings, Energy industry, Heating...</td>\n",
              "      <td>Other: It has 40% by 2030, but by 2005 year no...</td>\n",
              "      <td>Yes</td>\n",
              "      <td>POINT (-122.232 37.8244)</td>\n",
              "    </tr>\n",
              "    <tr>\n",
              "      <th>863</th>\n",
              "      <td>City of Beverly, MA</td>\n",
              "      <td>NaN</td>\n",
              "      <td>United States of America</td>\n",
              "      <td>North America</td>\n",
              "      <td>CDP Cities, ICLEI - Local Governments for Sust...</td>\n",
              "      <td>public</td>\n",
              "      <td>City / Municipality</td>\n",
              "      <td>No target</td>\n",
              "      <td>NaN</td>\n",
              "      <td>NaN</td>\n",
              "      <td>NaN</td>\n",
              "      <td>NaN</td>\n",
              "      <td>NaN</td>\n",
              "      <td>NaN</td>\n",
              "    </tr>\n",
              "    <tr>\n",
              "      <th>1391</th>\n",
              "      <td>City of Tempe, AZ</td>\n",
              "      <td>Tempe</td>\n",
              "      <td>United States of America</td>\n",
              "      <td>North America</td>\n",
              "      <td>CDP Cities, ICLEI - Local Governments for Sust...</td>\n",
              "      <td>public</td>\n",
              "      <td>NaN</td>\n",
              "      <td>NaN</td>\n",
              "      <td>NaN</td>\n",
              "      <td>NaN</td>\n",
              "      <td>NaN</td>\n",
              "      <td>NaN</td>\n",
              "      <td>NaN</td>\n",
              "      <td>POINT (-111.94 33.4255)</td>\n",
              "    </tr>\n",
              "    <tr>\n",
              "      <th>304</th>\n",
              "      <td>City of Cincinnati</td>\n",
              "      <td>Cincinnati</td>\n",
              "      <td>United States of America</td>\n",
              "      <td>North America</td>\n",
              "      <td>CDP Cities, ICLEI - Local Governments for Sust...</td>\n",
              "      <td>public</td>\n",
              "      <td>City / Municipality</td>\n",
              "      <td>Base year emissions (absolute) target</td>\n",
              "      <td>All emissions sources included in city inventory</td>\n",
              "      <td>Same – covers entire city and nothing else</td>\n",
              "      <td>Commercial buildings, Energy industry, Industr...</td>\n",
              "      <td>Yes - 1.5 °C</td>\n",
              "      <td>No</td>\n",
              "      <td>POINT (-84.512 39.1031)</td>\n",
              "    </tr>\n",
              "  </tbody>\n",
              "</table>\n",
              "<p>432 rows × 14 columns</p>\n",
              "</div>"
            ],
            "text/plain": [
              "                 Organization  ...             City_location\n",
              "782          City of Lakewood  ...  POINT (-105.081 39.7047)\n",
              "1718  City of South Miami, FL  ...  POINT (-80.1918 25.7617)\n",
              "1338       Town of Blacksburg  ...  POINT (-80.4139 37.2296)\n",
              "1612     City of Philadelphia  ...  POINT (-75.1638 39.9523)\n",
              "1124       City of Providence  ...   POINT (-71.4128 41.824)\n",
              "...                       ...  ...                       ...\n",
              "223      City of Brisbane, CA  ...    POINT (-122.4 37.6808)\n",
              "311      City of Piedmont, CA  ...  POINT (-122.232 37.8244)\n",
              "863       City of Beverly, MA  ...                       NaN\n",
              "1391        City of Tempe, AZ  ...   POINT (-111.94 33.4255)\n",
              "304        City of Cincinnati  ...   POINT (-84.512 39.1031)\n",
              "\n",
              "[432 rows x 14 columns]"
            ]
          },
          "metadata": {
            "tags": []
          },
          "execution_count": 50
        }
      ]
    },
    {
      "cell_type": "code",
      "metadata": {
        "colab": {
          "base_uri": "https://localhost:8080/",
          "height": 779
        },
        "id": "PpXrCuT84ByC",
        "outputId": "feffbc62-1b83-415b-cdd3-4bffb51973cd"
      },
      "source": [
        "# # initialize Pool\n",
        "train_pool = Pool(X_train, \n",
        "                  y_train, \n",
        "                  cat_features=cat_var)\n",
        "test_pool = Pool(X_test, \n",
        "                 cat_features=cat_var) "
      ],
      "execution_count": 51,
      "outputs": [
        {
          "output_type": "error",
          "ename": "CatBoostError",
          "evalue": "ignored",
          "traceback": [
            "\u001b[0;31m---------------------------------------------------------------------------\u001b[0m",
            "\u001b[0;31mCatBoostError\u001b[0m                             Traceback (most recent call last)",
            "\u001b[0;32m_catboost.pyx\u001b[0m in \u001b[0;36m_catboost.get_cat_factor_bytes_representation\u001b[0;34m()\u001b[0m\n",
            "\u001b[0;32m_catboost.pyx\u001b[0m in \u001b[0;36m_catboost.get_id_object_bytes_string_representation\u001b[0;34m()\u001b[0m\n",
            "\u001b[0;31mCatBoostError\u001b[0m: bad object for id: nan",
            "\nDuring handling of the above exception, another exception occurred:\n",
            "\u001b[0;31mCatBoostError\u001b[0m                             Traceback (most recent call last)",
            "\u001b[0;32m<ipython-input-51-cf687860a33a>\u001b[0m in \u001b[0;36m<module>\u001b[0;34m()\u001b[0m\n\u001b[1;32m      2\u001b[0m train_pool = Pool(X_train, \n\u001b[1;32m      3\u001b[0m                   \u001b[0my_train\u001b[0m\u001b[0;34m,\u001b[0m\u001b[0;34m\u001b[0m\u001b[0;34m\u001b[0m\u001b[0m\n\u001b[0;32m----> 4\u001b[0;31m                   cat_features=cat_var)\n\u001b[0m\u001b[1;32m      5\u001b[0m test_pool = Pool(X_test, \n\u001b[1;32m      6\u001b[0m                  cat_features=cat_var) \n",
            "\u001b[0;32m/usr/local/lib/python3.6/dist-packages/catboost/core.py\u001b[0m in \u001b[0;36m__init__\u001b[0;34m(self, data, label, cat_features, text_features, embedding_features, column_description, pairs, delimiter, has_header, ignore_csv_quoting, weight, group_id, group_weight, subgroup_id, pairs_weight, baseline, feature_names, thread_count)\u001b[0m\n\u001b[1;32m    453\u001b[0m                     )\n\u001b[1;32m    454\u001b[0m \u001b[0;34m\u001b[0m\u001b[0m\n\u001b[0;32m--> 455\u001b[0;31m                 \u001b[0mself\u001b[0m\u001b[0;34m.\u001b[0m\u001b[0m_init\u001b[0m\u001b[0;34m(\u001b[0m\u001b[0mdata\u001b[0m\u001b[0;34m,\u001b[0m \u001b[0mlabel\u001b[0m\u001b[0;34m,\u001b[0m \u001b[0mcat_features\u001b[0m\u001b[0;34m,\u001b[0m \u001b[0mtext_features\u001b[0m\u001b[0;34m,\u001b[0m \u001b[0membedding_features\u001b[0m\u001b[0;34m,\u001b[0m \u001b[0mpairs\u001b[0m\u001b[0;34m,\u001b[0m \u001b[0mweight\u001b[0m\u001b[0;34m,\u001b[0m \u001b[0mgroup_id\u001b[0m\u001b[0;34m,\u001b[0m \u001b[0mgroup_weight\u001b[0m\u001b[0;34m,\u001b[0m \u001b[0msubgroup_id\u001b[0m\u001b[0;34m,\u001b[0m \u001b[0mpairs_weight\u001b[0m\u001b[0;34m,\u001b[0m \u001b[0mbaseline\u001b[0m\u001b[0;34m,\u001b[0m \u001b[0mfeature_names\u001b[0m\u001b[0;34m,\u001b[0m \u001b[0mthread_count\u001b[0m\u001b[0;34m)\u001b[0m\u001b[0;34m\u001b[0m\u001b[0;34m\u001b[0m\u001b[0m\n\u001b[0m\u001b[1;32m    456\u001b[0m         \u001b[0msuper\u001b[0m\u001b[0;34m(\u001b[0m\u001b[0mPool\u001b[0m\u001b[0;34m,\u001b[0m \u001b[0mself\u001b[0m\u001b[0;34m)\u001b[0m\u001b[0;34m.\u001b[0m\u001b[0m__init__\u001b[0m\u001b[0;34m(\u001b[0m\u001b[0;34m)\u001b[0m\u001b[0;34m\u001b[0m\u001b[0;34m\u001b[0m\u001b[0m\n\u001b[1;32m    457\u001b[0m \u001b[0;34m\u001b[0m\u001b[0m\n",
            "\u001b[0;32m/usr/local/lib/python3.6/dist-packages/catboost/core.py\u001b[0m in \u001b[0;36m_init\u001b[0;34m(self, data, label, cat_features, text_features, embedding_features, pairs, weight, group_id, group_weight, subgroup_id, pairs_weight, baseline, feature_names, thread_count)\u001b[0m\n\u001b[1;32m    964\u001b[0m             \u001b[0mbaseline\u001b[0m \u001b[0;34m=\u001b[0m \u001b[0mnp\u001b[0m\u001b[0;34m.\u001b[0m\u001b[0mreshape\u001b[0m\u001b[0;34m(\u001b[0m\u001b[0mbaseline\u001b[0m\u001b[0;34m,\u001b[0m \u001b[0;34m(\u001b[0m\u001b[0msamples_count\u001b[0m\u001b[0;34m,\u001b[0m \u001b[0;34m-\u001b[0m\u001b[0;36m1\u001b[0m\u001b[0;34m)\u001b[0m\u001b[0;34m)\u001b[0m\u001b[0;34m\u001b[0m\u001b[0;34m\u001b[0m\u001b[0m\n\u001b[1;32m    965\u001b[0m             \u001b[0mself\u001b[0m\u001b[0;34m.\u001b[0m\u001b[0m_check_baseline_shape\u001b[0m\u001b[0;34m(\u001b[0m\u001b[0mbaseline\u001b[0m\u001b[0;34m,\u001b[0m \u001b[0msamples_count\u001b[0m\u001b[0;34m)\u001b[0m\u001b[0;34m\u001b[0m\u001b[0;34m\u001b[0m\u001b[0m\n\u001b[0;32m--> 966\u001b[0;31m         \u001b[0mself\u001b[0m\u001b[0;34m.\u001b[0m\u001b[0m_init_pool\u001b[0m\u001b[0;34m(\u001b[0m\u001b[0mdata\u001b[0m\u001b[0;34m,\u001b[0m \u001b[0mlabel\u001b[0m\u001b[0;34m,\u001b[0m \u001b[0mcat_features\u001b[0m\u001b[0;34m,\u001b[0m \u001b[0mtext_features\u001b[0m\u001b[0;34m,\u001b[0m \u001b[0membedding_features\u001b[0m\u001b[0;34m,\u001b[0m \u001b[0mpairs\u001b[0m\u001b[0;34m,\u001b[0m \u001b[0mweight\u001b[0m\u001b[0;34m,\u001b[0m \u001b[0mgroup_id\u001b[0m\u001b[0;34m,\u001b[0m \u001b[0mgroup_weight\u001b[0m\u001b[0;34m,\u001b[0m \u001b[0msubgroup_id\u001b[0m\u001b[0;34m,\u001b[0m \u001b[0mpairs_weight\u001b[0m\u001b[0;34m,\u001b[0m \u001b[0mbaseline\u001b[0m\u001b[0;34m,\u001b[0m \u001b[0mfeature_names\u001b[0m\u001b[0;34m,\u001b[0m \u001b[0mthread_count\u001b[0m\u001b[0;34m)\u001b[0m\u001b[0;34m\u001b[0m\u001b[0;34m\u001b[0m\u001b[0m\n\u001b[0m\u001b[1;32m    967\u001b[0m \u001b[0;34m\u001b[0m\u001b[0m\n\u001b[1;32m    968\u001b[0m \u001b[0;34m\u001b[0m\u001b[0m\n",
            "\u001b[0;32m_catboost.pyx\u001b[0m in \u001b[0;36m_catboost._PoolBase._init_pool\u001b[0;34m()\u001b[0m\n",
            "\u001b[0;32m_catboost.pyx\u001b[0m in \u001b[0;36m_catboost._PoolBase._init_pool\u001b[0;34m()\u001b[0m\n",
            "\u001b[0;32m_catboost.pyx\u001b[0m in \u001b[0;36m_catboost._PoolBase._init_features_order_layout_pool\u001b[0;34m()\u001b[0m\n",
            "\u001b[0;32m_catboost.pyx\u001b[0m in \u001b[0;36m_catboost._set_features_order_data_pd_data_frame\u001b[0;34m()\u001b[0m\n",
            "\u001b[0;32m_catboost.pyx\u001b[0m in \u001b[0;36m_catboost.get_cat_factor_bytes_representation\u001b[0;34m()\u001b[0m\n",
            "\u001b[0;31mCatBoostError\u001b[0m: Invalid type for cat_feature[non-default value idx=21,feature_idx=3]=nan : cat_features must be integer or string, real number values and NaN values should be converted to string."
          ]
        }
      ]
    },
    {
      "cell_type": "code",
      "metadata": {
        "id": "c-uPYansMalh"
      },
      "source": [
        "# data_country5.groupby(['Country'])['Emission_per_capita'].sum()#.plot.barh(figsize = (10,30))#.size()#.reset_index('Percentage_reduction')#, x= 'Country'"
      ],
      "execution_count": null,
      "outputs": []
    },
    {
      "cell_type": "markdown",
      "metadata": {
        "id": "h_L8fqiNs2Pp"
      },
      "source": [
        "## Simple EDA: Profiling"
      ]
    },
    {
      "cell_type": "code",
      "metadata": {
        "id": "vuytUJaqVVGd"
      },
      "source": [
        "!pip install -q pandas-profiling"
      ],
      "execution_count": null,
      "outputs": []
    },
    {
      "cell_type": "code",
      "metadata": {
        "id": "Gtpe_LMGYj3Y"
      },
      "source": [
        "!pip install -q pandas==0.25.3"
      ],
      "execution_count": null,
      "outputs": []
    },
    {
      "cell_type": "code",
      "metadata": {
        "id": "3bgPWwPvLytg"
      },
      "source": [
        "import pandas as pd"
      ],
      "execution_count": null,
      "outputs": []
    },
    {
      "cell_type": "code",
      "metadata": {
        "id": "0eHbLQfjs4rn"
      },
      "source": [
        "from pandas_profiling import ProfileReport"
      ],
      "execution_count": null,
      "outputs": []
    },
    {
      "cell_type": "code",
      "metadata": {
        "id": "WflvmkDJXoun"
      },
      "source": [
        "ProfileReport(data_bycountry.median())"
      ],
      "execution_count": null,
      "outputs": []
    },
    {
      "cell_type": "code",
      "metadata": {
        "id": "YsBCj8duXupV"
      },
      "source": [
        ""
      ],
      "execution_count": null,
      "outputs": []
    },
    {
      "cell_type": "markdown",
      "metadata": {
        "id": "uM33dj9Nk4ow"
      },
      "source": [
        "## Emission (Target-Base)"
      ]
    },
    {
      "cell_type": "code",
      "metadata": {
        "id": "AUmbGWt3jKD-"
      },
      "source": [
        "data_country5['Target_Base'] = data_country5['Target_emissions'] - data_country5['Base_year_emissions']"
      ],
      "execution_count": null,
      "outputs": []
    },
    {
      "cell_type": "code",
      "metadata": {
        "id": "7p-iFmDclRnw"
      },
      "source": [
        "data_country5.groupby(['Country']).sum()['Target_Base'].sort_values(ascending=True)[:10].plot.barh()"
      ],
      "execution_count": null,
      "outputs": []
    },
    {
      "cell_type": "code",
      "metadata": {
        "id": "k7PxPyYHlfyg"
      },
      "source": [
        "data_country5.head(2)"
      ],
      "execution_count": null,
      "outputs": []
    },
    {
      "cell_type": "code",
      "metadata": {
        "id": "CeVmstWXK24r"
      },
      "source": [
        ""
      ],
      "execution_count": null,
      "outputs": []
    }
  ]
}